{
  "nbformat": 4,
  "nbformat_minor": 0,
  "metadata": {
    "colab": {
      "name": "Logistic Regression by Hand.ipynb",
      "provenance": [],
      "collapsed_sections": [],
      "include_colab_link": true
    },
    "kernelspec": {
      "name": "python3",
      "display_name": "Python 3"
    }
  },
  "cells": [
    {
      "cell_type": "markdown",
      "metadata": {
        "id": "view-in-github",
        "colab_type": "text"
      },
      "source": [
        "<a href=\"https://colab.research.google.com/github/vishalrshukla/Learnings/blob/master/Logistic_Regression_by_Hand.ipynb\" target=\"_parent\"><img src=\"https://colab.research.google.com/assets/colab-badge.svg\" alt=\"Open In Colab\"/></a>"
      ]
    },
    {
      "cell_type": "code",
      "metadata": {
        "id": "A_1iPPGofnnF",
        "colab_type": "code",
        "colab": {}
      },
      "source": [
        "import pandas as pd\n",
        "import matplotlib.pyplot as plt\n",
        "import numpy as np\n",
        "import math as math\n",
        "from sklearn.model_selection import train_test_split\n",
        "from sklearn.linear_model import LinearRegression\n",
        "from sklearn.metrics import mean_squared_error, r2_score, mean_absolute_error, explained_variance_score"
      ],
      "execution_count": 1,
      "outputs": []
    },
    {
      "cell_type": "code",
      "metadata": {
        "id": "risaD-wFf4Mw",
        "colab_type": "code",
        "colab": {
          "base_uri": "https://localhost:8080/",
          "height": 340
        },
        "outputId": "b12e8343-5948-46cb-e065-6d784bc48a7f"
      },
      "source": [
        "SampleDF=pd.DataFrame({'Hours(X)':[29,15,33,26,39,16,30,12,32,19],\n",
        "                      'Result(Y)':[1,0,1,0,1,0,1,0,1,0]\n",
        "})\n",
        "SampleDF"
      ],
      "execution_count": 2,
      "outputs": [
        {
          "output_type": "execute_result",
          "data": {
            "text/html": [
              "<div>\n",
              "<style scoped>\n",
              "    .dataframe tbody tr th:only-of-type {\n",
              "        vertical-align: middle;\n",
              "    }\n",
              "\n",
              "    .dataframe tbody tr th {\n",
              "        vertical-align: top;\n",
              "    }\n",
              "\n",
              "    .dataframe thead th {\n",
              "        text-align: right;\n",
              "    }\n",
              "</style>\n",
              "<table border=\"1\" class=\"dataframe\">\n",
              "  <thead>\n",
              "    <tr style=\"text-align: right;\">\n",
              "      <th></th>\n",
              "      <th>Hours(X)</th>\n",
              "      <th>Result(Y)</th>\n",
              "    </tr>\n",
              "  </thead>\n",
              "  <tbody>\n",
              "    <tr>\n",
              "      <th>0</th>\n",
              "      <td>29</td>\n",
              "      <td>1</td>\n",
              "    </tr>\n",
              "    <tr>\n",
              "      <th>1</th>\n",
              "      <td>15</td>\n",
              "      <td>0</td>\n",
              "    </tr>\n",
              "    <tr>\n",
              "      <th>2</th>\n",
              "      <td>33</td>\n",
              "      <td>1</td>\n",
              "    </tr>\n",
              "    <tr>\n",
              "      <th>3</th>\n",
              "      <td>26</td>\n",
              "      <td>0</td>\n",
              "    </tr>\n",
              "    <tr>\n",
              "      <th>4</th>\n",
              "      <td>39</td>\n",
              "      <td>1</td>\n",
              "    </tr>\n",
              "    <tr>\n",
              "      <th>5</th>\n",
              "      <td>16</td>\n",
              "      <td>0</td>\n",
              "    </tr>\n",
              "    <tr>\n",
              "      <th>6</th>\n",
              "      <td>30</td>\n",
              "      <td>1</td>\n",
              "    </tr>\n",
              "    <tr>\n",
              "      <th>7</th>\n",
              "      <td>12</td>\n",
              "      <td>0</td>\n",
              "    </tr>\n",
              "    <tr>\n",
              "      <th>8</th>\n",
              "      <td>32</td>\n",
              "      <td>1</td>\n",
              "    </tr>\n",
              "    <tr>\n",
              "      <th>9</th>\n",
              "      <td>19</td>\n",
              "      <td>0</td>\n",
              "    </tr>\n",
              "  </tbody>\n",
              "</table>\n",
              "</div>"
            ],
            "text/plain": [
              "   Hours(X)  Result(Y)\n",
              "0        29          1\n",
              "1        15          0\n",
              "2        33          1\n",
              "3        26          0\n",
              "4        39          1\n",
              "5        16          0\n",
              "6        30          1\n",
              "7        12          0\n",
              "8        32          1\n",
              "9        19          0"
            ]
          },
          "metadata": {
            "tags": []
          },
          "execution_count": 2
        }
      ]
    },
    {
      "cell_type": "code",
      "metadata": {
        "id": "60c_Bnm9sxJ0",
        "colab_type": "code",
        "colab": {
          "base_uri": "https://localhost:8080/",
          "height": 295
        },
        "outputId": "a3888b05-b7f8-4526-c72a-d04cd2abdf2b"
      },
      "source": [
        "plt.scatter('Hours(X)','Result(Y)',c='green', s=100,  data=SampleDF)\n",
        "plt.ylim(bottom=-0.05)\n",
        "plt.xlim(left=0)\n",
        "plt.title(label=\"Hours(X) vs Result(Y)\",loc='center')\n",
        "plt.xlabel('Hours(X)')\n",
        "plt.ylabel('Result(Y)')\n",
        "plt.show()"
      ],
      "execution_count": 3,
      "outputs": [
        {
          "output_type": "display_data",
          "data": {
            "image/png": "[encoded data removed]",
            "text/plain": [
              "<Figure size 432x288 with 1 Axes>"
            ]
          },
          "metadata": {
            "tags": [],
            "needs_background": "light"
          }
        }
      ]
    },
    {
      "cell_type": "code",
      "metadata": {
        "id": "61N_pnxbLMEZ",
        "colab_type": "code",
        "colab": {
          "base_uri": "https://localhost:8080/",
          "height": 394
        },
        "outputId": "41b329fe-6763-45de-a09a-395fd4e3c956"
      },
      "source": [
        "## MeanX , MeanY & Count of Rows(N)\n",
        "n=SampleDF['Hours(X)'].count()\n",
        "MeanX=SampleDF['Hours(X)'].mean()\n",
        "MeanY=SampleDF['Result(Y)'].mean()\n",
        "print('No of Element :',n)\n",
        "print('Mean of X :', MeanX)\n",
        "print('Mean of Y : ',MeanY)\n",
        "SampleDF"
      ],
      "execution_count": 4,
      "outputs": [
        {
          "output_type": "stream",
          "text": [
            "No of Element : 10\n",
            "Mean of X : 25.1\n",
            "Mean of Y :  0.5\n"
          ],
          "name": "stdout"
        },
        {
          "output_type": "execute_result",
          "data": {
            "text/html": [
              "<div>\n",
              "<style scoped>\n",
              "    .dataframe tbody tr th:only-of-type {\n",
              "        vertical-align: middle;\n",
              "    }\n",
              "\n",
              "    .dataframe tbody tr th {\n",
              "        vertical-align: top;\n",
              "    }\n",
              "\n",
              "    .dataframe thead th {\n",
              "        text-align: right;\n",
              "    }\n",
              "</style>\n",
              "<table border=\"1\" class=\"dataframe\">\n",
              "  <thead>\n",
              "    <tr style=\"text-align: right;\">\n",
              "      <th></th>\n",
              "      <th>Hours(X)</th>\n",
              "      <th>Result(Y)</th>\n",
              "    </tr>\n",
              "  </thead>\n",
              "  <tbody>\n",
              "    <tr>\n",
              "      <th>0</th>\n",
              "      <td>29</td>\n",
              "      <td>1</td>\n",
              "    </tr>\n",
              "    <tr>\n",
              "      <th>1</th>\n",
              "      <td>15</td>\n",
              "      <td>0</td>\n",
              "    </tr>\n",
              "    <tr>\n",
              "      <th>2</th>\n",
              "      <td>33</td>\n",
              "      <td>1</td>\n",
              "    </tr>\n",
              "    <tr>\n",
              "      <th>3</th>\n",
              "      <td>26</td>\n",
              "      <td>0</td>\n",
              "    </tr>\n",
              "    <tr>\n",
              "      <th>4</th>\n",
              "      <td>39</td>\n",
              "      <td>1</td>\n",
              "    </tr>\n",
              "    <tr>\n",
              "      <th>5</th>\n",
              "      <td>16</td>\n",
              "      <td>0</td>\n",
              "    </tr>\n",
              "    <tr>\n",
              "      <th>6</th>\n",
              "      <td>30</td>\n",
              "      <td>1</td>\n",
              "    </tr>\n",
              "    <tr>\n",
              "      <th>7</th>\n",
              "      <td>12</td>\n",
              "      <td>0</td>\n",
              "    </tr>\n",
              "    <tr>\n",
              "      <th>8</th>\n",
              "      <td>32</td>\n",
              "      <td>1</td>\n",
              "    </tr>\n",
              "    <tr>\n",
              "      <th>9</th>\n",
              "      <td>19</td>\n",
              "      <td>0</td>\n",
              "    </tr>\n",
              "  </tbody>\n",
              "</table>\n",
              "</div>"
            ],
            "text/plain": [
              "   Hours(X)  Result(Y)\n",
              "0        29          1\n",
              "1        15          0\n",
              "2        33          1\n",
              "3        26          0\n",
              "4        39          1\n",
              "5        16          0\n",
              "6        30          1\n",
              "7        12          0\n",
              "8        32          1\n",
              "9        19          0"
            ]
          },
          "metadata": {
            "tags": []
          },
          "execution_count": 4
        }
      ]
    },
    {
      "cell_type": "code",
      "metadata": {
        "id": "eaX_C2W6Pvw8",
        "colab_type": "code",
        "colab": {
          "base_uri": "https://localhost:8080/",
          "height": 340
        },
        "outputId": "dbedcc9b-40b7-4259-c75c-009ebbf95448"
      },
      "source": [
        "SampleDF['X-MeanX']=SampleDF['Hours(X)'].map(lambda a: a-MeanX )\n",
        "SampleDF['Y-MeanY']=SampleDF['Result(Y)'].map(lambda a: a-MeanY )\n",
        "SampleDF['X-MeanX*Y-MeanY']=SampleDF['X-MeanX']*SampleDF['Y-MeanY']\n",
        "SampleDF['X-MeanX**2']=SampleDF['X-MeanX'].map(lambda a: a**2)\n",
        "SampleDF['Y-MeanY**2']=SampleDF['Y-MeanY'].map(lambda a: a**2)\n",
        "SampleDF"
      ],
      "execution_count": 5,
      "outputs": [
        {
          "output_type": "execute_result",
          "data": {
            "text/html": [
              "<div>\n",
              "<style scoped>\n",
              "    .dataframe tbody tr th:only-of-type {\n",
              "        vertical-align: middle;\n",
              "    }\n",
              "\n",
              "    .dataframe tbody tr th {\n",
              "        vertical-align: top;\n",
              "    }\n",
              "\n",
              "    .dataframe thead th {\n",
              "        text-align: right;\n",
              "    }\n",
              "</style>\n",
              "<table border=\"1\" class=\"dataframe\">\n",
              "  <thead>\n",
              "    <tr style=\"text-align: right;\">\n",
              "      <th></th>\n",
              "      <th>Hours(X)</th>\n",
              "      <th>Result(Y)</th>\n",
              "      <th>X-MeanX</th>\n",
              "      <th>Y-MeanY</th>\n",
              "      <th>X-MeanX*Y-MeanY</th>\n",
              "      <th>X-MeanX**2</th>\n",
              "      <th>Y-MeanY**2</th>\n",
              "    </tr>\n",
              "  </thead>\n",
              "  <tbody>\n",
              "    <tr>\n",
              "      <th>0</th>\n",
              "      <td>29</td>\n",
              "      <td>1</td>\n",
              "      <td>3.9</td>\n",
              "      <td>0.5</td>\n",
              "      <td>1.95</td>\n",
              "      <td>15.21</td>\n",
              "      <td>0.25</td>\n",
              "    </tr>\n",
              "    <tr>\n",
              "      <th>1</th>\n",
              "      <td>15</td>\n",
              "      <td>0</td>\n",
              "      <td>-10.1</td>\n",
              "      <td>-0.5</td>\n",
              "      <td>5.05</td>\n",
              "      <td>102.01</td>\n",
              "      <td>0.25</td>\n",
              "    </tr>\n",
              "    <tr>\n",
              "      <th>2</th>\n",
              "      <td>33</td>\n",
              "      <td>1</td>\n",
              "      <td>7.9</td>\n",
              "      <td>0.5</td>\n",
              "      <td>3.95</td>\n",
              "      <td>62.41</td>\n",
              "      <td>0.25</td>\n",
              "    </tr>\n",
              "    <tr>\n",
              "      <th>3</th>\n",
              "      <td>26</td>\n",
              "      <td>0</td>\n",
              "      <td>0.9</td>\n",
              "      <td>-0.5</td>\n",
              "      <td>-0.45</td>\n",
              "      <td>0.81</td>\n",
              "      <td>0.25</td>\n",
              "    </tr>\n",
              "    <tr>\n",
              "      <th>4</th>\n",
              "      <td>39</td>\n",
              "      <td>1</td>\n",
              "      <td>13.9</td>\n",
              "      <td>0.5</td>\n",
              "      <td>6.95</td>\n",
              "      <td>193.21</td>\n",
              "      <td>0.25</td>\n",
              "    </tr>\n",
              "    <tr>\n",
              "      <th>5</th>\n",
              "      <td>16</td>\n",
              "      <td>0</td>\n",
              "      <td>-9.1</td>\n",
              "      <td>-0.5</td>\n",
              "      <td>4.55</td>\n",
              "      <td>82.81</td>\n",
              "      <td>0.25</td>\n",
              "    </tr>\n",
              "    <tr>\n",
              "      <th>6</th>\n",
              "      <td>30</td>\n",
              "      <td>1</td>\n",
              "      <td>4.9</td>\n",
              "      <td>0.5</td>\n",
              "      <td>2.45</td>\n",
              "      <td>24.01</td>\n",
              "      <td>0.25</td>\n",
              "    </tr>\n",
              "    <tr>\n",
              "      <th>7</th>\n",
              "      <td>12</td>\n",
              "      <td>0</td>\n",
              "      <td>-13.1</td>\n",
              "      <td>-0.5</td>\n",
              "      <td>6.55</td>\n",
              "      <td>171.61</td>\n",
              "      <td>0.25</td>\n",
              "    </tr>\n",
              "    <tr>\n",
              "      <th>8</th>\n",
              "      <td>32</td>\n",
              "      <td>1</td>\n",
              "      <td>6.9</td>\n",
              "      <td>0.5</td>\n",
              "      <td>3.45</td>\n",
              "      <td>47.61</td>\n",
              "      <td>0.25</td>\n",
              "    </tr>\n",
              "    <tr>\n",
              "      <th>9</th>\n",
              "      <td>19</td>\n",
              "      <td>0</td>\n",
              "      <td>-6.1</td>\n",
              "      <td>-0.5</td>\n",
              "      <td>3.05</td>\n",
              "      <td>37.21</td>\n",
              "      <td>0.25</td>\n",
              "    </tr>\n",
              "  </tbody>\n",
              "</table>\n",
              "</div>"
            ],
            "text/plain": [
              "   Hours(X)  Result(Y)  X-MeanX  ...  X-MeanX*Y-MeanY  X-MeanX**2  Y-MeanY**2\n",
              "0        29          1      3.9  ...             1.95       15.21        0.25\n",
              "1        15          0    -10.1  ...             5.05      102.01        0.25\n",
              "2        33          1      7.9  ...             3.95       62.41        0.25\n",
              "3        26          0      0.9  ...            -0.45        0.81        0.25\n",
              "4        39          1     13.9  ...             6.95      193.21        0.25\n",
              "5        16          0     -9.1  ...             4.55       82.81        0.25\n",
              "6        30          1      4.9  ...             2.45       24.01        0.25\n",
              "7        12          0    -13.1  ...             6.55      171.61        0.25\n",
              "8        32          1      6.9  ...             3.45       47.61        0.25\n",
              "9        19          0     -6.1  ...             3.05       37.21        0.25\n",
              "\n",
              "[10 rows x 7 columns]"
            ]
          },
          "metadata": {
            "tags": []
          },
          "execution_count": 5
        }
      ]
    },
    {
      "cell_type": "code",
      "metadata": {
        "id": "rFIY8IS3aubZ",
        "colab_type": "code",
        "colab": {
          "base_uri": "https://localhost:8080/",
          "height": 35
        },
        "outputId": "be49b2ae-7466-4c50-977f-13ca199d7ddb"
      },
      "source": [
        "Numrator=SampleDF['X-MeanX*Y-MeanY'].sum()\n",
        "Dinominator=math.sqrt(SampleDF['X-MeanX**2'].sum()*SampleDF['Y-MeanY**2'].sum())\n",
        "r=Numrator/Dinominator\n",
        "print('Persion Corelation Coeefficent(r) : ', r)"
      ],
      "execution_count": 6,
      "outputs": [
        {
          "output_type": "stream",
          "text": [
            "Persion Corelation Coeefficent(r) :  0.8736892359345642\n"
          ],
          "name": "stdout"
        }
      ]
    },
    {
      "cell_type": "code",
      "metadata": {
        "id": "PZXdPpTt95a7",
        "colab_type": "code",
        "colab": {}
      },
      "source": [
        "Sy=math.sqrt(SampleDF['Y-MeanY**2'].sum()/(n-1))\n",
        "Sx=math.sqrt(SampleDF['X-MeanX**2'].sum()/(n-1))"
      ],
      "execution_count": 7,
      "outputs": []
    },
    {
      "cell_type": "code",
      "metadata": {
        "id": "voTDG4km--2g",
        "colab_type": "code",
        "colab": {
          "base_uri": "https://localhost:8080/",
          "height": 35
        },
        "outputId": "d34cef0a-4342-4d04-8c6f-67a30301313f"
      },
      "source": [
        "b=r*(Sy/Sx)\n",
        "print('Slope(b) of Regerssion Line',b)"
      ],
      "execution_count": 8,
      "outputs": [
        {
          "output_type": "stream",
          "text": [
            "Slope(b) of Regerssion Line 0.050888858732528165\n"
          ],
          "name": "stdout"
        }
      ]
    },
    {
      "cell_type": "code",
      "metadata": {
        "id": "COF7DJdIA_jV",
        "colab_type": "code",
        "colab": {
          "base_uri": "https://localhost:8080/",
          "height": 35
        },
        "outputId": "1c4568e3-7460-4e4c-d2b8-302074f7a5e7"
      },
      "source": [
        "a= MeanY-(b*MeanX)\n",
        "print('Y-Intercept(a) of Regeression Line : ', a)"
      ],
      "execution_count": 9,
      "outputs": [
        {
          "output_type": "stream",
          "text": [
            "Y-Intercept(a) of Regeression Line :  -0.777310354186457\n"
          ],
          "name": "stdout"
        }
      ]
    },
    {
      "cell_type": "code",
      "metadata": {
        "id": "nX5zPH1CFb79",
        "colab_type": "code",
        "colab": {
          "base_uri": "https://localhost:8080/",
          "height": 52
        },
        "outputId": "c3b9a1e6-0774-4518-d4c3-679e0b4ea51d"
      },
      "source": [
        "z=a+b*16\n",
        "print(z)\n",
        "p=1/(1 + math.exp(-z))\n",
        "p"
      ],
      "execution_count": 10,
      "outputs": [
        {
          "output_type": "stream",
          "text": [
            "0.036911385533993646\n"
          ],
          "name": "stdout"
        },
        {
          "output_type": "execute_result",
          "data": {
            "text/plain": [
              "0.5092267988193211"
            ]
          },
          "metadata": {
            "tags": []
          },
          "execution_count": 10
        }
      ]
    },
    {
      "cell_type": "code",
      "metadata": {
        "id": "0Ge34seQwUA1",
        "colab_type": "code",
        "colab": {
          "base_uri": "https://localhost:8080/",
          "height": 295
        },
        "outputId": "d01005ae-23f5-4685-cf84-34d7ae0ac73a"
      },
      "source": [
        "plt.scatter('Hours(X)','Result(Y)',c='green', s=100,  data=SampleDF)\n",
        "plt.ylim(bottom=-0.05)\n",
        "plt.xlim(left=0)\n",
        "plt.plot(pd.RangeIndex(0,40),a +(b*pd.RangeIndex(0,40) ))\n",
        "plt.title(label=\"Hours(X) vs Result(Y)\",loc='center')\n",
        "plt.xlabel('Hours(X)')\n",
        "plt.ylabel('Result(Y)')\n",
        "plt.show()"
      ],
      "execution_count": 11,
      "outputs": [
        {
          "output_type": "display_data",
          "data": {
            "image/png": "[encoded data removed]",
            "text/plain": [
              "<Figure size 432x288 with 1 Axes>"
            ]
          },
          "metadata": {
            "tags": [],
            "needs_background": "light"
          }
        }
      ]
    },
    {
      "cell_type": "code",
      "metadata": {
        "id": "npkkRkAaCKYc",
        "colab_type": "code",
        "colab": {
          "base_uri": "https://localhost:8080/",
          "height": 340
        },
        "outputId": "f466a965-1dc7-45d6-84f4-67d380cd8a6d"
      },
      "source": [
        "SampleDF['Odd'] = SampleDF['Hours(X)'].map(lambda x: b*x+a )\n",
        "SampleDF['yPred'] = np.round(SampleDF['Odd'].map(lambda x: 1/(1 + math.exp(-x)) ),2)\n",
        "SampleDF['Predicted(Y)']=SampleDF['yPred'].map(lambda x: 1 if x > 0.50 else 0 )\n",
        "SampleDF"
      ],
      "execution_count": 12,
      "outputs": [
        {
          "output_type": "execute_result",
          "data": {
            "text/html": [
              "<div>\n",
              "<style scoped>\n",
              "    .dataframe tbody tr th:only-of-type {\n",
              "        vertical-align: middle;\n",
              "    }\n",
              "\n",
              "    .dataframe tbody tr th {\n",
              "        vertical-align: top;\n",
              "    }\n",
              "\n",
              "    .dataframe thead th {\n",
              "        text-align: right;\n",
              "    }\n",
              "</style>\n",
              "<table border=\"1\" class=\"dataframe\">\n",
              "  <thead>\n",
              "    <tr style=\"text-align: right;\">\n",
              "      <th></th>\n",
              "      <th>Hours(X)</th>\n",
              "      <th>Result(Y)</th>\n",
              "      <th>X-MeanX</th>\n",
              "      <th>Y-MeanY</th>\n",
              "      <th>X-MeanX*Y-MeanY</th>\n",
              "      <th>X-MeanX**2</th>\n",
              "      <th>Y-MeanY**2</th>\n",
              "      <th>Odd</th>\n",
              "      <th>yPred</th>\n",
              "      <th>Predicted(Y)</th>\n",
              "    </tr>\n",
              "  </thead>\n",
              "  <tbody>\n",
              "    <tr>\n",
              "      <th>0</th>\n",
              "      <td>29</td>\n",
              "      <td>1</td>\n",
              "      <td>3.9</td>\n",
              "      <td>0.5</td>\n",
              "      <td>1.95</td>\n",
              "      <td>15.21</td>\n",
              "      <td>0.25</td>\n",
              "      <td>0.698467</td>\n",
              "      <td>0.67</td>\n",
              "      <td>1</td>\n",
              "    </tr>\n",
              "    <tr>\n",
              "      <th>1</th>\n",
              "      <td>15</td>\n",
              "      <td>0</td>\n",
              "      <td>-10.1</td>\n",
              "      <td>-0.5</td>\n",
              "      <td>5.05</td>\n",
              "      <td>102.01</td>\n",
              "      <td>0.25</td>\n",
              "      <td>-0.013977</td>\n",
              "      <td>0.50</td>\n",
              "      <td>0</td>\n",
              "    </tr>\n",
              "    <tr>\n",
              "      <th>2</th>\n",
              "      <td>33</td>\n",
              "      <td>1</td>\n",
              "      <td>7.9</td>\n",
              "      <td>0.5</td>\n",
              "      <td>3.95</td>\n",
              "      <td>62.41</td>\n",
              "      <td>0.25</td>\n",
              "      <td>0.902022</td>\n",
              "      <td>0.71</td>\n",
              "      <td>1</td>\n",
              "    </tr>\n",
              "    <tr>\n",
              "      <th>3</th>\n",
              "      <td>26</td>\n",
              "      <td>0</td>\n",
              "      <td>0.9</td>\n",
              "      <td>-0.5</td>\n",
              "      <td>-0.45</td>\n",
              "      <td>0.81</td>\n",
              "      <td>0.25</td>\n",
              "      <td>0.545800</td>\n",
              "      <td>0.63</td>\n",
              "      <td>1</td>\n",
              "    </tr>\n",
              "    <tr>\n",
              "      <th>4</th>\n",
              "      <td>39</td>\n",
              "      <td>1</td>\n",
              "      <td>13.9</td>\n",
              "      <td>0.5</td>\n",
              "      <td>6.95</td>\n",
              "      <td>193.21</td>\n",
              "      <td>0.25</td>\n",
              "      <td>1.207355</td>\n",
              "      <td>0.77</td>\n",
              "      <td>1</td>\n",
              "    </tr>\n",
              "    <tr>\n",
              "      <th>5</th>\n",
              "      <td>16</td>\n",
              "      <td>0</td>\n",
              "      <td>-9.1</td>\n",
              "      <td>-0.5</td>\n",
              "      <td>4.55</td>\n",
              "      <td>82.81</td>\n",
              "      <td>0.25</td>\n",
              "      <td>0.036911</td>\n",
              "      <td>0.51</td>\n",
              "      <td>1</td>\n",
              "    </tr>\n",
              "    <tr>\n",
              "      <th>6</th>\n",
              "      <td>30</td>\n",
              "      <td>1</td>\n",
              "      <td>4.9</td>\n",
              "      <td>0.5</td>\n",
              "      <td>2.45</td>\n",
              "      <td>24.01</td>\n",
              "      <td>0.25</td>\n",
              "      <td>0.749355</td>\n",
              "      <td>0.68</td>\n",
              "      <td>1</td>\n",
              "    </tr>\n",
              "    <tr>\n",
              "      <th>7</th>\n",
              "      <td>12</td>\n",
              "      <td>0</td>\n",
              "      <td>-13.1</td>\n",
              "      <td>-0.5</td>\n",
              "      <td>6.55</td>\n",
              "      <td>171.61</td>\n",
              "      <td>0.25</td>\n",
              "      <td>-0.166644</td>\n",
              "      <td>0.46</td>\n",
              "      <td>0</td>\n",
              "    </tr>\n",
              "    <tr>\n",
              "      <th>8</th>\n",
              "      <td>32</td>\n",
              "      <td>1</td>\n",
              "      <td>6.9</td>\n",
              "      <td>0.5</td>\n",
              "      <td>3.45</td>\n",
              "      <td>47.61</td>\n",
              "      <td>0.25</td>\n",
              "      <td>0.851133</td>\n",
              "      <td>0.70</td>\n",
              "      <td>1</td>\n",
              "    </tr>\n",
              "    <tr>\n",
              "      <th>9</th>\n",
              "      <td>19</td>\n",
              "      <td>0</td>\n",
              "      <td>-6.1</td>\n",
              "      <td>-0.5</td>\n",
              "      <td>3.05</td>\n",
              "      <td>37.21</td>\n",
              "      <td>0.25</td>\n",
              "      <td>0.189578</td>\n",
              "      <td>0.55</td>\n",
              "      <td>1</td>\n",
              "    </tr>\n",
              "  </tbody>\n",
              "</table>\n",
              "</div>"
            ],
            "text/plain": [
              "   Hours(X)  Result(Y)  X-MeanX  ...       Odd  yPred  Predicted(Y)\n",
              "0        29          1      3.9  ...  0.698467   0.67             1\n",
              "1        15          0    -10.1  ... -0.013977   0.50             0\n",
              "2        33          1      7.9  ...  0.902022   0.71             1\n",
              "3        26          0      0.9  ...  0.545800   0.63             1\n",
              "4        39          1     13.9  ...  1.207355   0.77             1\n",
              "5        16          0     -9.1  ...  0.036911   0.51             1\n",
              "6        30          1      4.9  ...  0.749355   0.68             1\n",
              "7        12          0    -13.1  ... -0.166644   0.46             0\n",
              "8        32          1      6.9  ...  0.851133   0.70             1\n",
              "9        19          0     -6.1  ...  0.189578   0.55             1\n",
              "\n",
              "[10 rows x 10 columns]"
            ]
          },
          "metadata": {
            "tags": []
          },
          "execution_count": 12
        }
      ]
    },
    {
      "cell_type": "code",
      "metadata": {
        "id": "EOuoLUTn_OY1",
        "colab_type": "code",
        "colab": {
          "base_uri": "https://localhost:8080/",
          "height": 35
        },
        "outputId": "1990200f-6c0c-40b9-a90a-909cbf333622"
      },
      "source": [
        "from sklearn.metrics import confusion_matrix\n",
        "SampleConfusionMatrix=confusion_matrix(SampleDF['Result(Y)'],SampleDF['Predicted(Y)'],labels=[0,1]).ravel()\n",
        "TrueNegative_TN=SampleConfusionMatrix[0]\n",
        "TruePositive_TP=SampleConfusionMatrix[3]\n",
        "FalsePositive_FP=SampleConfusionMatrix[1]\n",
        "FalseNegative_FN=SampleConfusionMatrix[2]\n",
        "ACCUARY=(TruePositive_TP+TrueNegative_TN)/(TrueNegative_TN+TruePositive_TP+FalsePositive_FP+FalseNegative_FN)\n",
        "ACCUARY"
      ],
      "execution_count": 13,
      "outputs": [
        {
          "output_type": "execute_result",
          "data": {
            "text/plain": [
              "0.7"
            ]
          },
          "metadata": {
            "tags": []
          },
          "execution_count": 13
        }
      ]
    },
    {
      "cell_type": "markdown",
      "metadata": {
        "id": "KiqZnsC5SRUM",
        "colab_type": "text"
      },
      "source": [
        "---\n",
        "# Below is Linear Regression with Gradient Descent\n",
        "### Gradient descent is an iterative optimization algorithm to find the minimum of a function. Here that function is our Loss Function."
      ]
    },
    {
      "cell_type": "code",
      "metadata": {
        "id": "8hSL6fbYSYsA",
        "colab_type": "code",
        "colab": {
          "base_uri": "https://localhost:8080/",
          "height": 340
        },
        "outputId": "2b7ff8d1-f71d-4638-af54-ca459c10f5e8"
      },
      "source": [
        "GDSampleDF=SampleDF\n",
        "GDSampleDF"
      ],
      "execution_count": 14,
      "outputs": [
        {
          "output_type": "execute_result",
          "data": {
            "text/html": [
              "<div>\n",
              "<style scoped>\n",
              "    .dataframe tbody tr th:only-of-type {\n",
              "        vertical-align: middle;\n",
              "    }\n",
              "\n",
              "    .dataframe tbody tr th {\n",
              "        vertical-align: top;\n",
              "    }\n",
              "\n",
              "    .dataframe thead th {\n",
              "        text-align: right;\n",
              "    }\n",
              "</style>\n",
              "<table border=\"1\" class=\"dataframe\">\n",
              "  <thead>\n",
              "    <tr style=\"text-align: right;\">\n",
              "      <th></th>\n",
              "      <th>Hours(X)</th>\n",
              "      <th>Result(Y)</th>\n",
              "      <th>X-MeanX</th>\n",
              "      <th>Y-MeanY</th>\n",
              "      <th>X-MeanX*Y-MeanY</th>\n",
              "      <th>X-MeanX**2</th>\n",
              "      <th>Y-MeanY**2</th>\n",
              "      <th>Odd</th>\n",
              "      <th>yPred</th>\n",
              "      <th>Predicted(Y)</th>\n",
              "    </tr>\n",
              "  </thead>\n",
              "  <tbody>\n",
              "    <tr>\n",
              "      <th>0</th>\n",
              "      <td>29</td>\n",
              "      <td>1</td>\n",
              "      <td>3.9</td>\n",
              "      <td>0.5</td>\n",
              "      <td>1.95</td>\n",
              "      <td>15.21</td>\n",
              "      <td>0.25</td>\n",
              "      <td>0.698467</td>\n",
              "      <td>0.67</td>\n",
              "      <td>1</td>\n",
              "    </tr>\n",
              "    <tr>\n",
              "      <th>1</th>\n",
              "      <td>15</td>\n",
              "      <td>0</td>\n",
              "      <td>-10.1</td>\n",
              "      <td>-0.5</td>\n",
              "      <td>5.05</td>\n",
              "      <td>102.01</td>\n",
              "      <td>0.25</td>\n",
              "      <td>-0.013977</td>\n",
              "      <td>0.50</td>\n",
              "      <td>0</td>\n",
              "    </tr>\n",
              "    <tr>\n",
              "      <th>2</th>\n",
              "      <td>33</td>\n",
              "      <td>1</td>\n",
              "      <td>7.9</td>\n",
              "      <td>0.5</td>\n",
              "      <td>3.95</td>\n",
              "      <td>62.41</td>\n",
              "      <td>0.25</td>\n",
              "      <td>0.902022</td>\n",
              "      <td>0.71</td>\n",
              "      <td>1</td>\n",
              "    </tr>\n",
              "    <tr>\n",
              "      <th>3</th>\n",
              "      <td>26</td>\n",
              "      <td>0</td>\n",
              "      <td>0.9</td>\n",
              "      <td>-0.5</td>\n",
              "      <td>-0.45</td>\n",
              "      <td>0.81</td>\n",
              "      <td>0.25</td>\n",
              "      <td>0.545800</td>\n",
              "      <td>0.63</td>\n",
              "      <td>1</td>\n",
              "    </tr>\n",
              "    <tr>\n",
              "      <th>4</th>\n",
              "      <td>39</td>\n",
              "      <td>1</td>\n",
              "      <td>13.9</td>\n",
              "      <td>0.5</td>\n",
              "      <td>6.95</td>\n",
              "      <td>193.21</td>\n",
              "      <td>0.25</td>\n",
              "      <td>1.207355</td>\n",
              "      <td>0.77</td>\n",
              "      <td>1</td>\n",
              "    </tr>\n",
              "    <tr>\n",
              "      <th>5</th>\n",
              "      <td>16</td>\n",
              "      <td>0</td>\n",
              "      <td>-9.1</td>\n",
              "      <td>-0.5</td>\n",
              "      <td>4.55</td>\n",
              "      <td>82.81</td>\n",
              "      <td>0.25</td>\n",
              "      <td>0.036911</td>\n",
              "      <td>0.51</td>\n",
              "      <td>1</td>\n",
              "    </tr>\n",
              "    <tr>\n",
              "      <th>6</th>\n",
              "      <td>30</td>\n",
              "      <td>1</td>\n",
              "      <td>4.9</td>\n",
              "      <td>0.5</td>\n",
              "      <td>2.45</td>\n",
              "      <td>24.01</td>\n",
              "      <td>0.25</td>\n",
              "      <td>0.749355</td>\n",
              "      <td>0.68</td>\n",
              "      <td>1</td>\n",
              "    </tr>\n",
              "    <tr>\n",
              "      <th>7</th>\n",
              "      <td>12</td>\n",
              "      <td>0</td>\n",
              "      <td>-13.1</td>\n",
              "      <td>-0.5</td>\n",
              "      <td>6.55</td>\n",
              "      <td>171.61</td>\n",
              "      <td>0.25</td>\n",
              "      <td>-0.166644</td>\n",
              "      <td>0.46</td>\n",
              "      <td>0</td>\n",
              "    </tr>\n",
              "    <tr>\n",
              "      <th>8</th>\n",
              "      <td>32</td>\n",
              "      <td>1</td>\n",
              "      <td>6.9</td>\n",
              "      <td>0.5</td>\n",
              "      <td>3.45</td>\n",
              "      <td>47.61</td>\n",
              "      <td>0.25</td>\n",
              "      <td>0.851133</td>\n",
              "      <td>0.70</td>\n",
              "      <td>1</td>\n",
              "    </tr>\n",
              "    <tr>\n",
              "      <th>9</th>\n",
              "      <td>19</td>\n",
              "      <td>0</td>\n",
              "      <td>-6.1</td>\n",
              "      <td>-0.5</td>\n",
              "      <td>3.05</td>\n",
              "      <td>37.21</td>\n",
              "      <td>0.25</td>\n",
              "      <td>0.189578</td>\n",
              "      <td>0.55</td>\n",
              "      <td>1</td>\n",
              "    </tr>\n",
              "  </tbody>\n",
              "</table>\n",
              "</div>"
            ],
            "text/plain": [
              "   Hours(X)  Result(Y)  X-MeanX  ...       Odd  yPred  Predicted(Y)\n",
              "0        29          1      3.9  ...  0.698467   0.67             1\n",
              "1        15          0    -10.1  ... -0.013977   0.50             0\n",
              "2        33          1      7.9  ...  0.902022   0.71             1\n",
              "3        26          0      0.9  ...  0.545800   0.63             1\n",
              "4        39          1     13.9  ...  1.207355   0.77             1\n",
              "5        16          0     -9.1  ...  0.036911   0.51             1\n",
              "6        30          1      4.9  ...  0.749355   0.68             1\n",
              "7        12          0    -13.1  ... -0.166644   0.46             0\n",
              "8        32          1      6.9  ...  0.851133   0.70             1\n",
              "9        19          0     -6.1  ...  0.189578   0.55             1\n",
              "\n",
              "[10 rows x 10 columns]"
            ]
          },
          "metadata": {
            "tags": []
          },
          "execution_count": 14
        }
      ]
    },
    {
      "cell_type": "code",
      "metadata": {
        "id": "mbCQgFv9TMgQ",
        "colab_type": "code",
        "colab": {}
      },
      "source": [
        "def logistic_regression(GDSampleDF):\n",
        "#Initialize Variable \n",
        "  m = 0\n",
        "  c = 0\n",
        "  L = 0.01\n",
        "  n = GDSampleDF['Hours(X)'].count()\n",
        "  epoch = 300\n",
        " \n",
        "  for i in range(epoch):\n",
        "    GDSampleDF['z'] = GDSampleDF['X-MeanX'].map(lambda x: m*x+c )\n",
        "    GDSampleDF['GDyPred'] = np.round(GDSampleDF['z'].map(lambda x: 1/(1 + math.exp(-x)) ),2)\n",
        "    GDSampleDF['Diff-in-Y'] = GDSampleDF['Result(Y)'] - GDSampleDF['GDyPred']\n",
        "    GDSampleDF['1-GDyPred'] = 1 - GDSampleDF['GDyPred']\n",
        "    GDSampleDF['Diff-y-Square'] = GDSampleDF['Diff-in-Y'].map(lambda y: y**2)\n",
        "    GDSampleDF['Par-for-Dc'] = GDSampleDF['Diff-in-Y'] * GDSampleDF['GDyPred'] * GDSampleDF['1-GDyPred']\n",
        "    GDSampleDF['Par-for-Dm'] = GDSampleDF['Par-for-Dc'] * GDSampleDF['X-MeanX']\n",
        "\n",
        "    Dm = (-2) * GDSampleDF['Par-for-Dm'].sum()\n",
        "    Dc = (-2) * GDSampleDF['Par-for-Dc'].sum()\n",
        "    error = GDSampleDF['Diff-y-Square'].sum()\n",
        "    \n",
        "    m = m - L * Dm\n",
        "    c = c - L * Dc\n",
        "    \n",
        "  return m, c "
      ],
      "execution_count": 17,
      "outputs": []
    },
    {
      "cell_type": "code",
      "metadata": {
        "id": "tcpo72JMzTHm",
        "colab_type": "code",
        "colab": {
          "base_uri": "https://localhost:8080/",
          "height": 52
        },
        "outputId": "511a2f6e-ee85-4b73-80dc-9ba572fc6216"
      },
      "source": [
        "b1, b0 = logistic_regression(GDSampleDF)\n",
        "print(\"Slope of the line m = \", b1)\n",
        "print(\"Y-intercept of the line c = \", b0)\n"
      ],
      "execution_count": 18,
      "outputs": [
        {
          "output_type": "stream",
          "text": [
            "Slope of the line m =  0.5831916960000015\n",
            "Y-intercept of the line c =  -0.5936017599999998\n"
          ],
          "name": "stdout"
        }
      ]
    },
    {
      "cell_type": "code",
      "metadata": {
        "id": "bYN9mwqHUgSz",
        "colab_type": "code",
        "colab": {
          "base_uri": "https://localhost:8080/",
          "height": 295
        },
        "outputId": "6cdf1a88-4638-4a6e-806c-7e71c496d071"
      },
      "source": [
        "plt.scatter('Hours(X)','Result(Y)',c='green', s=100,  data=SampleDF)\n",
        "plt.ylim(bottom=-1)\n",
        "plt.xlim(left=0)\n",
        "plt.plot(pd.RangeIndex(0,40),b0 +(b1*pd.RangeIndex(0,40) ))\n",
        "plt.title(label=\"Hours(X) vs Result(Y)\",loc='center')\n",
        "plt.xlabel('Hours(X)')\n",
        "plt.ylabel('Result(Y)')\n",
        "plt.show()"
      ],
      "execution_count": 19,
      "outputs": [
        {
          "output_type": "display_data",
          "data": {
            "image/png": "[encoded data removed]",
            "text/plain": [
              "<Figure size 432x288 with 1 Axes>"
            ]
          },
          "metadata": {
            "tags": [],
            "needs_background": "light"
          }
        }
      ]
    },
    {
      "cell_type": "code",
      "metadata": {
        "id": "rgGZo4n8WQ6C",
        "colab_type": "code",
        "colab": {
          "base_uri": "https://localhost:8080/",
          "height": 357
        },
        "outputId": "ea6ef2c4-0e6a-4ff6-a1e7-ca3a02b5a65c"
      },
      "source": [
        "GDSampleDF['GDPredicted(Y)']=GDSampleDF['GDyPred'].map(lambda x: 1 if x > 0.50 else 0 )\n",
        "GDSampleDF"
      ],
      "execution_count": 21,
      "outputs": [
        {
          "output_type": "execute_result",
          "data": {
            "text/html": [
              "<div>\n",
              "<style scoped>\n",
              "    .dataframe tbody tr th:only-of-type {\n",
              "        vertical-align: middle;\n",
              "    }\n",
              "\n",
              "    .dataframe tbody tr th {\n",
              "        vertical-align: top;\n",
              "    }\n",
              "\n",
              "    .dataframe thead th {\n",
              "        text-align: right;\n",
              "    }\n",
              "</style>\n",
              "<table border=\"1\" class=\"dataframe\">\n",
              "  <thead>\n",
              "    <tr style=\"text-align: right;\">\n",
              "      <th></th>\n",
              "      <th>Hours(X)</th>\n",
              "      <th>Result(Y)</th>\n",
              "      <th>X-MeanX</th>\n",
              "      <th>Y-MeanY</th>\n",
              "      <th>X-MeanX*Y-MeanY</th>\n",
              "      <th>X-MeanX**2</th>\n",
              "      <th>Y-MeanY**2</th>\n",
              "      <th>Odd</th>\n",
              "      <th>yPred</th>\n",
              "      <th>Predicted(Y)</th>\n",
              "      <th>z</th>\n",
              "      <th>GDyPred</th>\n",
              "      <th>Diff-in-Y</th>\n",
              "      <th>1-GDyPred</th>\n",
              "      <th>Diff-y-Square</th>\n",
              "      <th>Par-for-Dc</th>\n",
              "      <th>Par-for-Dm</th>\n",
              "      <th>GDPredicted(Y)</th>\n",
              "    </tr>\n",
              "  </thead>\n",
              "  <tbody>\n",
              "    <tr>\n",
              "      <th>0</th>\n",
              "      <td>29</td>\n",
              "      <td>1</td>\n",
              "      <td>3.9</td>\n",
              "      <td>0.5</td>\n",
              "      <td>1.95</td>\n",
              "      <td>15.21</td>\n",
              "      <td>0.25</td>\n",
              "      <td>0.698467</td>\n",
              "      <td>0.67</td>\n",
              "      <td>1</td>\n",
              "      <td>1.680801</td>\n",
              "      <td>0.84</td>\n",
              "      <td>0.16</td>\n",
              "      <td>0.16</td>\n",
              "      <td>0.0256</td>\n",
              "      <td>0.021504</td>\n",
              "      <td>0.083866</td>\n",
              "      <td>1</td>\n",
              "    </tr>\n",
              "    <tr>\n",
              "      <th>1</th>\n",
              "      <td>15</td>\n",
              "      <td>0</td>\n",
              "      <td>-10.1</td>\n",
              "      <td>-0.5</td>\n",
              "      <td>5.05</td>\n",
              "      <td>102.01</td>\n",
              "      <td>0.25</td>\n",
              "      <td>-0.013977</td>\n",
              "      <td>0.50</td>\n",
              "      <td>0</td>\n",
              "      <td>-6.477256</td>\n",
              "      <td>0.00</td>\n",
              "      <td>0.00</td>\n",
              "      <td>1.00</td>\n",
              "      <td>0.0000</td>\n",
              "      <td>0.000000</td>\n",
              "      <td>-0.000000</td>\n",
              "      <td>0</td>\n",
              "    </tr>\n",
              "    <tr>\n",
              "      <th>2</th>\n",
              "      <td>33</td>\n",
              "      <td>1</td>\n",
              "      <td>7.9</td>\n",
              "      <td>0.5</td>\n",
              "      <td>3.95</td>\n",
              "      <td>62.41</td>\n",
              "      <td>0.25</td>\n",
              "      <td>0.902022</td>\n",
              "      <td>0.71</td>\n",
              "      <td>1</td>\n",
              "      <td>4.011674</td>\n",
              "      <td>0.98</td>\n",
              "      <td>0.02</td>\n",
              "      <td>0.02</td>\n",
              "      <td>0.0004</td>\n",
              "      <td>0.000392</td>\n",
              "      <td>0.003097</td>\n",
              "      <td>1</td>\n",
              "    </tr>\n",
              "    <tr>\n",
              "      <th>3</th>\n",
              "      <td>26</td>\n",
              "      <td>0</td>\n",
              "      <td>0.9</td>\n",
              "      <td>-0.5</td>\n",
              "      <td>-0.45</td>\n",
              "      <td>0.81</td>\n",
              "      <td>0.25</td>\n",
              "      <td>0.545800</td>\n",
              "      <td>0.63</td>\n",
              "      <td>1</td>\n",
              "      <td>-0.067354</td>\n",
              "      <td>0.48</td>\n",
              "      <td>-0.48</td>\n",
              "      <td>0.52</td>\n",
              "      <td>0.2304</td>\n",
              "      <td>-0.119808</td>\n",
              "      <td>-0.107827</td>\n",
              "      <td>0</td>\n",
              "    </tr>\n",
              "    <tr>\n",
              "      <th>4</th>\n",
              "      <td>39</td>\n",
              "      <td>1</td>\n",
              "      <td>13.9</td>\n",
              "      <td>0.5</td>\n",
              "      <td>6.95</td>\n",
              "      <td>193.21</td>\n",
              "      <td>0.25</td>\n",
              "      <td>1.207355</td>\n",
              "      <td>0.77</td>\n",
              "      <td>1</td>\n",
              "      <td>7.507984</td>\n",
              "      <td>1.00</td>\n",
              "      <td>0.00</td>\n",
              "      <td>0.00</td>\n",
              "      <td>0.0000</td>\n",
              "      <td>0.000000</td>\n",
              "      <td>0.000000</td>\n",
              "      <td>1</td>\n",
              "    </tr>\n",
              "    <tr>\n",
              "      <th>5</th>\n",
              "      <td>16</td>\n",
              "      <td>0</td>\n",
              "      <td>-9.1</td>\n",
              "      <td>-0.5</td>\n",
              "      <td>4.55</td>\n",
              "      <td>82.81</td>\n",
              "      <td>0.25</td>\n",
              "      <td>0.036911</td>\n",
              "      <td>0.51</td>\n",
              "      <td>1</td>\n",
              "      <td>-5.894537</td>\n",
              "      <td>0.00</td>\n",
              "      <td>0.00</td>\n",
              "      <td>1.00</td>\n",
              "      <td>0.0000</td>\n",
              "      <td>0.000000</td>\n",
              "      <td>-0.000000</td>\n",
              "      <td>0</td>\n",
              "    </tr>\n",
              "    <tr>\n",
              "      <th>6</th>\n",
              "      <td>30</td>\n",
              "      <td>1</td>\n",
              "      <td>4.9</td>\n",
              "      <td>0.5</td>\n",
              "      <td>2.45</td>\n",
              "      <td>24.01</td>\n",
              "      <td>0.25</td>\n",
              "      <td>0.749355</td>\n",
              "      <td>0.68</td>\n",
              "      <td>1</td>\n",
              "      <td>2.263519</td>\n",
              "      <td>0.91</td>\n",
              "      <td>0.09</td>\n",
              "      <td>0.09</td>\n",
              "      <td>0.0081</td>\n",
              "      <td>0.007371</td>\n",
              "      <td>0.036118</td>\n",
              "      <td>1</td>\n",
              "    </tr>\n",
              "    <tr>\n",
              "      <th>7</th>\n",
              "      <td>12</td>\n",
              "      <td>0</td>\n",
              "      <td>-13.1</td>\n",
              "      <td>-0.5</td>\n",
              "      <td>6.55</td>\n",
              "      <td>171.61</td>\n",
              "      <td>0.25</td>\n",
              "      <td>-0.166644</td>\n",
              "      <td>0.46</td>\n",
              "      <td>0</td>\n",
              "      <td>-8.225411</td>\n",
              "      <td>0.00</td>\n",
              "      <td>0.00</td>\n",
              "      <td>1.00</td>\n",
              "      <td>0.0000</td>\n",
              "      <td>0.000000</td>\n",
              "      <td>-0.000000</td>\n",
              "      <td>0</td>\n",
              "    </tr>\n",
              "    <tr>\n",
              "      <th>8</th>\n",
              "      <td>32</td>\n",
              "      <td>1</td>\n",
              "      <td>6.9</td>\n",
              "      <td>0.5</td>\n",
              "      <td>3.45</td>\n",
              "      <td>47.61</td>\n",
              "      <td>0.25</td>\n",
              "      <td>0.851133</td>\n",
              "      <td>0.70</td>\n",
              "      <td>1</td>\n",
              "      <td>3.428956</td>\n",
              "      <td>0.97</td>\n",
              "      <td>0.03</td>\n",
              "      <td>0.03</td>\n",
              "      <td>0.0009</td>\n",
              "      <td>0.000873</td>\n",
              "      <td>0.006024</td>\n",
              "      <td>1</td>\n",
              "    </tr>\n",
              "    <tr>\n",
              "      <th>9</th>\n",
              "      <td>19</td>\n",
              "      <td>0</td>\n",
              "      <td>-6.1</td>\n",
              "      <td>-0.5</td>\n",
              "      <td>3.05</td>\n",
              "      <td>37.21</td>\n",
              "      <td>0.25</td>\n",
              "      <td>0.189578</td>\n",
              "      <td>0.55</td>\n",
              "      <td>1</td>\n",
              "      <td>-4.146382</td>\n",
              "      <td>0.02</td>\n",
              "      <td>-0.02</td>\n",
              "      <td>0.98</td>\n",
              "      <td>0.0004</td>\n",
              "      <td>-0.000392</td>\n",
              "      <td>0.002391</td>\n",
              "      <td>0</td>\n",
              "    </tr>\n",
              "  </tbody>\n",
              "</table>\n",
              "</div>"
            ],
            "text/plain": [
              "   Hours(X)  Result(Y)  X-MeanX  ...  Par-for-Dc  Par-for-Dm  GDPredicted(Y)\n",
              "0        29          1      3.9  ...    0.021504    0.083866               1\n",
              "1        15          0    -10.1  ...    0.000000   -0.000000               0\n",
              "2        33          1      7.9  ...    0.000392    0.003097               1\n",
              "3        26          0      0.9  ...   -0.119808   -0.107827               0\n",
              "4        39          1     13.9  ...    0.000000    0.000000               1\n",
              "5        16          0     -9.1  ...    0.000000   -0.000000               0\n",
              "6        30          1      4.9  ...    0.007371    0.036118               1\n",
              "7        12          0    -13.1  ...    0.000000   -0.000000               0\n",
              "8        32          1      6.9  ...    0.000873    0.006024               1\n",
              "9        19          0     -6.1  ...   -0.000392    0.002391               0\n",
              "\n",
              "[10 rows x 18 columns]"
            ]
          },
          "metadata": {
            "tags": []
          },
          "execution_count": 21
        }
      ]
    },
    {
      "cell_type": "code",
      "metadata": {
        "colab_type": "code",
        "id": "xhD5sI9MbFAY",
        "colab": {
          "base_uri": "https://localhost:8080/",
          "height": 35
        },
        "outputId": "cb465e87-0827-4dba-ac29-2dfd8a0e6db4"
      },
      "source": [
        "GDConfusionMatrix=confusion_matrix(GDSampleDF['Result(Y)'],GDSampleDF['GDPredicted(Y)'],labels=[0,1]).ravel()\n",
        "GD_TN=GDConfusionMatrix[0]\n",
        "GD_TP=GDConfusionMatrix[3]\n",
        "GD_FP=GDConfusionMatrix[1]\n",
        "GD_FN=GDConfusionMatrix[2]\n",
        "GD_ACCUARY=(GD_TP+GD_TN)/(GD_TN+GD_TP+GD_FP+GD_FN)\n",
        "GD_ACCUARY"
      ],
      "execution_count": 22,
      "outputs": [
        {
          "output_type": "execute_result",
          "data": {
            "text/plain": [
              "1.0"
            ]
          },
          "metadata": {
            "tags": []
          },
          "execution_count": 22
        }
      ]
    }
  ]
}