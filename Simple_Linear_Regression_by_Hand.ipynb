{
  "nbformat": 4,
  "nbformat_minor": 0,
  "metadata": {
    "colab": {
      "name": "Simple Linear Regression by Hand",
      "provenance": [],
      "collapsed_sections": [],
      "authorship_tag": "ABX9TyM5mZKLJGtor36PhWJYnvZ6",
      "include_colab_link": true
    },
    "kernelspec": {
      "name": "python3",
      "display_name": "Python 3"
    }
  },
  "cells": [
    {
      "cell_type": "markdown",
      "metadata": {
        "id": "view-in-github",
        "colab_type": "text"
      },
      "source": [
        "<a href=\"https://colab.research.google.com/github/vishalrshukla/Learnings/blob/master/Simple_Linear_Regression_by_Hand.ipynb\" target=\"_parent\"><img src=\"https://colab.research.google.com/assets/colab-badge.svg\" alt=\"Open In Colab\"/></a>"
      ]
    },
    {
      "cell_type": "markdown",
      "metadata": {
        "id": "x9ULva3nrDkL",
        "colab_type": "text"
      },
      "source": [
        "# This is to Show how to calculate Simple Linear Regression without using any Libaray"
      ]
    },
    {
      "cell_type": "markdown",
      "metadata": {
        "id": "BhFqsKYU6Q-n",
        "colab_type": "text"
      },
      "source": [
        "## *Linear Regerssion function*\n",
        "> # y = a + b*$x$\n",
        "---\n",
        "## *Slope(b) of Regerssion Line*\n",
        "> # b= $r(Sy/Sx$)\n",
        "---\n",
        "## Persion Corelation Coeefficent(r)\n",
        "> # r=$\\sum((x-\\bar{x})(y-\\bar{y}))/\\sqrt{\\sum(x-\\bar{x})^2\\sum(y-\\bar{y})^2}$\n",
        "---\n",
        "## Standad deviation of Y  $(Sy)$\n",
        "> # $Sy=  \\sqrt {\\sum(y-\\bar{y})^2}/(n-1)$ \n",
        "## Standad deviation of X  $(Sx)$\n",
        "> # $Sx=  \\sqrt {\\sum(x-\\bar{x})^2}/(n-1)$ \n",
        "---\n",
        "## *Y-Intercept(a) of Regeression Line*\n",
        "> # a = $\\bar{y}$ *- b* $\\bar{x}$\n"
      ]
    },
    {
      "cell_type": "code",
      "metadata": {
        "id": "1_cx_IYnqZDA",
        "colab_type": "code",
        "colab": {}
      },
      "source": [
        "import pandas as pd\n",
        "import matplotlib.pyplot as plt\n",
        "import numpy as np\n",
        "import math as math"
      ],
      "execution_count": null,
      "outputs": []
    },
    {
      "cell_type": "markdown",
      "metadata": {
        "id": "VSwAchprr_43",
        "colab_type": "text"
      },
      "source": [
        "### Sample Data Frame of Correct Answears(X) Vs Attitude(Y) to pass exame"
      ]
    },
    {
      "cell_type": "code",
      "metadata": {
        "id": "unkP-DgDsFVS",
        "colab_type": "code",
        "colab": {
          "base_uri": "https://localhost:8080/",
          "height": 340
        },
        "outputId": "8c4ea0dc-f8d6-4a43-cafb-f663d96e4312"
      },
      "source": [
        "SampleDF=pd.DataFrame({'Correct(X)':[17,13,12,15,16,14,16,16,18,19],\n",
        "                       'Attitude(Y)':[94,73,59,80,93,85,66,79,77,91]\n",
        "                       })\n",
        "SampleDF"
      ],
      "execution_count": null,
      "outputs": [
        {
          "output_type": "execute_result",
          "data": {
            "text/html": [
              "<div>\n",
              "<style scoped>\n",
              "    .dataframe tbody tr th:only-of-type {\n",
              "        vertical-align: middle;\n",
              "    }\n",
              "\n",
              "    .dataframe tbody tr th {\n",
              "        vertical-align: top;\n",
              "    }\n",
              "\n",
              "    .dataframe thead th {\n",
              "        text-align: right;\n",
              "    }\n",
              "</style>\n",
              "<table border=\"1\" class=\"dataframe\">\n",
              "  <thead>\n",
              "    <tr style=\"text-align: right;\">\n",
              "      <th></th>\n",
              "      <th>Correct(X)</th>\n",
              "      <th>Attitude(Y)</th>\n",
              "    </tr>\n",
              "  </thead>\n",
              "  <tbody>\n",
              "    <tr>\n",
              "      <th>0</th>\n",
              "      <td>17</td>\n",
              "      <td>94</td>\n",
              "    </tr>\n",
              "    <tr>\n",
              "      <th>1</th>\n",
              "      <td>13</td>\n",
              "      <td>73</td>\n",
              "    </tr>\n",
              "    <tr>\n",
              "      <th>2</th>\n",
              "      <td>12</td>\n",
              "      <td>59</td>\n",
              "    </tr>\n",
              "    <tr>\n",
              "      <th>3</th>\n",
              "      <td>15</td>\n",
              "      <td>80</td>\n",
              "    </tr>\n",
              "    <tr>\n",
              "      <th>4</th>\n",
              "      <td>16</td>\n",
              "      <td>93</td>\n",
              "    </tr>\n",
              "    <tr>\n",
              "      <th>5</th>\n",
              "      <td>14</td>\n",
              "      <td>85</td>\n",
              "    </tr>\n",
              "    <tr>\n",
              "      <th>6</th>\n",
              "      <td>16</td>\n",
              "      <td>66</td>\n",
              "    </tr>\n",
              "    <tr>\n",
              "      <th>7</th>\n",
              "      <td>16</td>\n",
              "      <td>79</td>\n",
              "    </tr>\n",
              "    <tr>\n",
              "      <th>8</th>\n",
              "      <td>18</td>\n",
              "      <td>77</td>\n",
              "    </tr>\n",
              "    <tr>\n",
              "      <th>9</th>\n",
              "      <td>19</td>\n",
              "      <td>91</td>\n",
              "    </tr>\n",
              "  </tbody>\n",
              "</table>\n",
              "</div>"
            ],
            "text/plain": [
              "   Correct(X)  Attitude(Y)\n",
              "0          17           94\n",
              "1          13           73\n",
              "2          12           59\n",
              "3          15           80\n",
              "4          16           93\n",
              "5          14           85\n",
              "6          16           66\n",
              "7          16           79\n",
              "8          18           77\n",
              "9          19           91"
            ]
          },
          "metadata": {
            "tags": []
          },
          "execution_count": 2
        }
      ]
    },
    {
      "cell_type": "code",
      "metadata": {
        "id": "SGud0ftLwVKU",
        "colab_type": "code",
        "colab": {
          "base_uri": "https://localhost:8080/",
          "height": 295
        },
        "outputId": "f1b1a7dc-33bf-4904-8a79-db0159dc4306"
      },
      "source": [
        "plt.scatter('Correct(X)','Attitude(Y)',c='green', s=100,  data=SampleDF)\n",
        "plt.ylim(bottom=0)\n",
        "plt.xlim(left=0)\n",
        "plt.title(label=\"Correct(X) vs Attitude(Y)\",loc='center')\n",
        "plt.xlabel('Correct(X)')\n",
        "plt.ylabel('Attitude(Y)')\n",
        "plt.show()"
      ],
      "execution_count": null,
      "outputs": [
        {
          "output_type": "display_data",
          "data": {
            "image/png": "[encoded data removed]",
            "text/plain": [
              "<Figure size 432x288 with 1 Axes>"
            ]
          },
          "metadata": {
            "tags": [],
            "needs_background": "light"
          }
        }
      ]
    },
    {
      "cell_type": "code",
      "metadata": {
        "id": "61N_pnxbLMEZ",
        "colab_type": "code",
        "colab": {
          "base_uri": "https://localhost:8080/",
          "height": 70
        },
        "outputId": "575394a5-0772-40b9-f29e-02907a2ed717"
      },
      "source": [
        "## MeanX , MeanY & Count of Rows(N)\n",
        "n=SampleDF['Correct(X)'].count()\n",
        "MeanX=SampleDF['Correct(X)'].mean()\n",
        "MeanY=SampleDF['Attitude(Y)'].mean()\n",
        "print('No of Element :',n)\n",
        "print('Mean of X :', MeanX)\n",
        "print('Mean of Y : ',MeanY)"
      ],
      "execution_count": null,
      "outputs": [
        {
          "output_type": "stream",
          "text": [
            "No of Element : 10\n",
            "Mean of X : 15.6\n",
            "Mean of Y :  79.7\n"
          ],
          "name": "stdout"
        }
      ]
    },
    {
      "cell_type": "markdown",
      "metadata": {
        "id": "ASBpZvznPuVD",
        "colab_type": "text"
      },
      "source": [
        "## Persion Corelation Coeefficent(r)\n",
        "> # r=$\\sum((x-\\bar{x})(y-\\bar{y}))/\\sqrt{\\sum(x-\\bar{x})^2\\sum(y-\\bar{y})^2}$"
      ]
    },
    {
      "cell_type": "code",
      "metadata": {
        "id": "eaX_C2W6Pvw8",
        "colab_type": "code",
        "colab": {
          "base_uri": "https://localhost:8080/",
          "height": 340
        },
        "outputId": "ddb2eeec-91a5-4b6b-b997-c783ae59ae09"
      },
      "source": [
        "SampleDF['X-MeanX']=SampleDF['Correct(X)'].map(lambda a: a-MeanX )\n",
        "SampleDF['Y-MeanY']=SampleDF['Attitude(Y)'].map(lambda a: a-MeanY )\n",
        "SampleDF['X-MeanX*Y-MeanY']=SampleDF['X-MeanX']*SampleDF['Y-MeanY']\n",
        "SampleDF['X-MeanX**2']=SampleDF['X-MeanX'].map(lambda a: a**2)\n",
        "SampleDF['Y-MeanY**2']=SampleDF['Y-MeanY'].map(lambda a: a**2)\n",
        "SampleDF"
      ],
      "execution_count": null,
      "outputs": [
        {
          "output_type": "execute_result",
          "data": {
            "text/html": [
              "<div>\n",
              "<style scoped>\n",
              "    .dataframe tbody tr th:only-of-type {\n",
              "        vertical-align: middle;\n",
              "    }\n",
              "\n",
              "    .dataframe tbody tr th {\n",
              "        vertical-align: top;\n",
              "    }\n",
              "\n",
              "    .dataframe thead th {\n",
              "        text-align: right;\n",
              "    }\n",
              "</style>\n",
              "<table border=\"1\" class=\"dataframe\">\n",
              "  <thead>\n",
              "    <tr style=\"text-align: right;\">\n",
              "      <th></th>\n",
              "      <th>Correct(X)</th>\n",
              "      <th>Attitude(Y)</th>\n",
              "      <th>X-MeanX</th>\n",
              "      <th>Y-MeanY</th>\n",
              "      <th>X-MeanX*Y-MeanY</th>\n",
              "      <th>X-MeanX**2</th>\n",
              "      <th>Y-MeanY**2</th>\n",
              "    </tr>\n",
              "  </thead>\n",
              "  <tbody>\n",
              "    <tr>\n",
              "      <th>0</th>\n",
              "      <td>17</td>\n",
              "      <td>94</td>\n",
              "      <td>1.4</td>\n",
              "      <td>14.3</td>\n",
              "      <td>20.02</td>\n",
              "      <td>1.96</td>\n",
              "      <td>204.49</td>\n",
              "    </tr>\n",
              "    <tr>\n",
              "      <th>1</th>\n",
              "      <td>13</td>\n",
              "      <td>73</td>\n",
              "      <td>-2.6</td>\n",
              "      <td>-6.7</td>\n",
              "      <td>17.42</td>\n",
              "      <td>6.76</td>\n",
              "      <td>44.89</td>\n",
              "    </tr>\n",
              "    <tr>\n",
              "      <th>2</th>\n",
              "      <td>12</td>\n",
              "      <td>59</td>\n",
              "      <td>-3.6</td>\n",
              "      <td>-20.7</td>\n",
              "      <td>74.52</td>\n",
              "      <td>12.96</td>\n",
              "      <td>428.49</td>\n",
              "    </tr>\n",
              "    <tr>\n",
              "      <th>3</th>\n",
              "      <td>15</td>\n",
              "      <td>80</td>\n",
              "      <td>-0.6</td>\n",
              "      <td>0.3</td>\n",
              "      <td>-0.18</td>\n",
              "      <td>0.36</td>\n",
              "      <td>0.09</td>\n",
              "    </tr>\n",
              "    <tr>\n",
              "      <th>4</th>\n",
              "      <td>16</td>\n",
              "      <td>93</td>\n",
              "      <td>0.4</td>\n",
              "      <td>13.3</td>\n",
              "      <td>5.32</td>\n",
              "      <td>0.16</td>\n",
              "      <td>176.89</td>\n",
              "    </tr>\n",
              "    <tr>\n",
              "      <th>5</th>\n",
              "      <td>14</td>\n",
              "      <td>85</td>\n",
              "      <td>-1.6</td>\n",
              "      <td>5.3</td>\n",
              "      <td>-8.48</td>\n",
              "      <td>2.56</td>\n",
              "      <td>28.09</td>\n",
              "    </tr>\n",
              "    <tr>\n",
              "      <th>6</th>\n",
              "      <td>16</td>\n",
              "      <td>66</td>\n",
              "      <td>0.4</td>\n",
              "      <td>-13.7</td>\n",
              "      <td>-5.48</td>\n",
              "      <td>0.16</td>\n",
              "      <td>187.69</td>\n",
              "    </tr>\n",
              "    <tr>\n",
              "      <th>7</th>\n",
              "      <td>16</td>\n",
              "      <td>79</td>\n",
              "      <td>0.4</td>\n",
              "      <td>-0.7</td>\n",
              "      <td>-0.28</td>\n",
              "      <td>0.16</td>\n",
              "      <td>0.49</td>\n",
              "    </tr>\n",
              "    <tr>\n",
              "      <th>8</th>\n",
              "      <td>18</td>\n",
              "      <td>77</td>\n",
              "      <td>2.4</td>\n",
              "      <td>-2.7</td>\n",
              "      <td>-6.48</td>\n",
              "      <td>5.76</td>\n",
              "      <td>7.29</td>\n",
              "    </tr>\n",
              "    <tr>\n",
              "      <th>9</th>\n",
              "      <td>19</td>\n",
              "      <td>91</td>\n",
              "      <td>3.4</td>\n",
              "      <td>11.3</td>\n",
              "      <td>38.42</td>\n",
              "      <td>11.56</td>\n",
              "      <td>127.69</td>\n",
              "    </tr>\n",
              "  </tbody>\n",
              "</table>\n",
              "</div>"
            ],
            "text/plain": [
              "   Correct(X)  Attitude(Y)  X-MeanX  ...  X-MeanX*Y-MeanY  X-MeanX**2  Y-MeanY**2\n",
              "0          17           94      1.4  ...            20.02        1.96      204.49\n",
              "1          13           73     -2.6  ...            17.42        6.76       44.89\n",
              "2          12           59     -3.6  ...            74.52       12.96      428.49\n",
              "3          15           80     -0.6  ...            -0.18        0.36        0.09\n",
              "4          16           93      0.4  ...             5.32        0.16      176.89\n",
              "5          14           85     -1.6  ...            -8.48        2.56       28.09\n",
              "6          16           66      0.4  ...            -5.48        0.16      187.69\n",
              "7          16           79      0.4  ...            -0.28        0.16        0.49\n",
              "8          18           77      2.4  ...            -6.48        5.76        7.29\n",
              "9          19           91      3.4  ...            38.42       11.56      127.69\n",
              "\n",
              "[10 rows x 7 columns]"
            ]
          },
          "metadata": {
            "tags": []
          },
          "execution_count": 7
        }
      ]
    },
    {
      "cell_type": "code",
      "metadata": {
        "id": "rFIY8IS3aubZ",
        "colab_type": "code",
        "colab": {
          "base_uri": "https://localhost:8080/",
          "height": 35
        },
        "outputId": "a8ee5a03-5090-4584-d786-56ab97886a6f"
      },
      "source": [
        "Numrator=SampleDF['X-MeanX*Y-MeanY'].sum()\n",
        "Dinominator=math.sqrt(SampleDF['X-MeanX**2'].sum()*SampleDF['Y-MeanY**2'].sum())\n",
        "r=Numrator/Dinominator\n",
        "print('Persion Corelation Coeefficent(r) : ', r)"
      ],
      "execution_count": null,
      "outputs": [
        {
          "output_type": "stream",
          "text": [
            "Persion Corelation Coeefficent(r) :  0.5960947613894624\n"
          ],
          "name": "stdout"
        }
      ]
    },
    {
      "cell_type": "markdown",
      "metadata": {
        "id": "W47465dW93mB",
        "colab_type": "text"
      },
      "source": [
        "## Standad deviation of Y  $(Sy)$\n",
        "> # $Sy=  \\sqrt {\\sum(y-\\bar{y})^2}/n-1$ \n",
        "## Standad deviation of X  $(Sx)$\n",
        "> # $Sx=  \\sqrt {\\sum(x-\\bar{x})^2}/n-1$ "
      ]
    },
    {
      "cell_type": "code",
      "metadata": {
        "id": "PZXdPpTt95a7",
        "colab_type": "code",
        "colab": {}
      },
      "source": [
        "Sy=math.sqrt(SampleDF['Y-MeanY**2'].sum()/(n-1))\n",
        "Sx=math.sqrt(SampleDF['X-MeanX**2'].sum()/(n-1))"
      ],
      "execution_count": null,
      "outputs": []
    },
    {
      "cell_type": "markdown",
      "metadata": {
        "id": "O1jWxNzi-9ni",
        "colab_type": "text"
      },
      "source": [
        "## *Slope(b) of Regerssion Line*\n",
        "> # b= $r(Sy/Sx$)"
      ]
    },
    {
      "cell_type": "code",
      "metadata": {
        "id": "voTDG4km--2g",
        "colab_type": "code",
        "colab": {
          "base_uri": "https://localhost:8080/",
          "height": 35
        },
        "outputId": "3ec1491b-a7aa-43e4-a803-7b25e9c940db"
      },
      "source": [
        "b=r*(Sy/Sx)\n",
        "print('Slope(b) of Regerssion Line',b)"
      ],
      "execution_count": null,
      "outputs": [
        {
          "output_type": "stream",
          "text": [
            "Slope(b) of Regerssion Line 3.179245283018868\n"
          ],
          "name": "stdout"
        }
      ]
    },
    {
      "cell_type": "markdown",
      "metadata": {
        "id": "QbpAR3a1A954",
        "colab_type": "text"
      },
      "source": [
        "## *Y-Intercept(a) of Regeression Line*\n",
        "> # a = $\\bar{y}$ *- b* $\\bar{x}$"
      ]
    },
    {
      "cell_type": "code",
      "metadata": {
        "id": "COF7DJdIA_jV",
        "colab_type": "code",
        "colab": {
          "base_uri": "https://localhost:8080/",
          "height": 35
        },
        "outputId": "917fc7a6-751d-4244-d1cb-f764976ece7a"
      },
      "source": [
        "a= MeanY-(b*MeanX)\n",
        "print('Y-Intercept(a) of Regeression Line : ', a)"
      ],
      "execution_count": null,
      "outputs": [
        {
          "output_type": "stream",
          "text": [
            "Y-Intercept(a) of Regeression Line :  30.10377358490566\n"
          ],
          "name": "stdout"
        }
      ]
    },
    {
      "cell_type": "markdown",
      "metadata": {
        "id": "dmnAzDGIB2kD",
        "colab_type": "text"
      },
      "source": [
        "## *Linear Regerssion function*\n",
        "> # y = a + b*$x$"
      ]
    },
    {
      "cell_type": "code",
      "metadata": {
        "id": "3yY3OsXNCCqN",
        "colab_type": "code",
        "colab": {
          "base_uri": "https://localhost:8080/",
          "height": 35
        },
        "outputId": "0ad2153e-29b8-46d7-e33d-af9791d74cb6"
      },
      "source": [
        "#Suppose x=20\n",
        "y= a + (b*20)\n",
        "y"
      ],
      "execution_count": null,
      "outputs": [
        {
          "output_type": "execute_result",
          "data": {
            "text/plain": [
              "93.68867924528303"
            ]
          },
          "metadata": {
            "tags": []
          },
          "execution_count": 12
        }
      ]
    },
    {
      "cell_type": "code",
      "metadata": {
        "id": "p--ioqqNNTeq",
        "colab_type": "code",
        "colab": {
          "base_uri": "https://localhost:8080/",
          "height": 295
        },
        "outputId": "d6a86cd3-e349-4f4e-b182-3dabde5ed8ed"
      },
      "source": [
        "plt.scatter('Correct(X)','Attitude(Y)',c='green', s=100, data=SampleDF)\n",
        "plt.plot(pd.RangeIndex(0,20),a +(b*pd.RangeIndex(0,20) ))\n",
        "plt.ylim(bottom=0)\n",
        "plt.xlim(left=0)\n",
        "plt.title(label=\"Correct(X) vs Attitude(Y)\",loc='center')\n",
        "plt.xlabel('Correct(X)')\n",
        "plt.ylabel('Attitude(Y)')\n",
        "plt.show()"
      ],
      "execution_count": null,
      "outputs": [
        {
          "output_type": "display_data",
          "data": {
            "image/png": "[encoded data removed]",
            "text/plain": [
              "<Figure size 432x288 with 1 Axes>"
            ]
          },
          "metadata": {
            "tags": [],
            "needs_background": "light"
          }
        }
      ]
    },
    {
      "cell_type": "markdown",
      "metadata": {
        "id": "wRaFx-93svJR",
        "colab_type": "text"
      },
      "source": [
        "## Perdict Y for ith Value of X ($\\bar{y_i}$)\n",
        "> # $\\hat{y_i} = a + bx_i$ \n",
        "---\n",
        "## Mean Square Error\n",
        "> # MSE = $\\frac1{n}\\sum(y_i-\\hat{y_i})^2$\n",
        "---\n",
        "## Root Mean Square Error (Loss Function)\n",
        "> # RMSE = $\\sqrt{\\frac1{n}\\sum(y_i-\\hat{y_i})^2}$\n"
      ]
    },
    {
      "cell_type": "code",
      "metadata": {
        "id": "TfcOuD2Xwwau",
        "colab_type": "code",
        "colab": {
          "base_uri": "https://localhost:8080/",
          "height": 340
        },
        "outputId": "5a853d3c-cdd7-498c-e656-57bfc13b5935"
      },
      "source": [
        "SampleDF['Perdict_Y']=SampleDF['Correct(X)'].map(lambda row: a + b*row )\n",
        "SampleDF['Perdict_Y']=SampleDF['Perdict_Y'].round(2)\n",
        "SampleDF['Y-Perdict_Y']=SampleDF['Attitude(Y)']-SampleDF['Perdict_Y']\n",
        "SampleDF['Y-Perdict_Y**2']=np.round(SampleDF['Y-Perdict_Y'].map(lambda row: np.square(row)),2)\n",
        "SampleDF"
      ],
      "execution_count": null,
      "outputs": [
        {
          "output_type": "execute_result",
          "data": {
            "text/html": [
              "<div>\n",
              "<style scoped>\n",
              "    .dataframe tbody tr th:only-of-type {\n",
              "        vertical-align: middle;\n",
              "    }\n",
              "\n",
              "    .dataframe tbody tr th {\n",
              "        vertical-align: top;\n",
              "    }\n",
              "\n",
              "    .dataframe thead th {\n",
              "        text-align: right;\n",
              "    }\n",
              "</style>\n",
              "<table border=\"1\" class=\"dataframe\">\n",
              "  <thead>\n",
              "    <tr style=\"text-align: right;\">\n",
              "      <th></th>\n",
              "      <th>Correct(X)</th>\n",
              "      <th>Attitude(Y)</th>\n",
              "      <th>X-MeanX</th>\n",
              "      <th>Y-MeanY</th>\n",
              "      <th>X-MeanX*Y-MeanY</th>\n",
              "      <th>X-MeanX**2</th>\n",
              "      <th>Y-MeanY**2</th>\n",
              "      <th>Perdict_Y</th>\n",
              "      <th>Y-Perdict_Y</th>\n",
              "      <th>Y-Perdict_Y**2</th>\n",
              "    </tr>\n",
              "  </thead>\n",
              "  <tbody>\n",
              "    <tr>\n",
              "      <th>0</th>\n",
              "      <td>17</td>\n",
              "      <td>94</td>\n",
              "      <td>1.4</td>\n",
              "      <td>14.3</td>\n",
              "      <td>20.02</td>\n",
              "      <td>1.96</td>\n",
              "      <td>204.49</td>\n",
              "      <td>84.15</td>\n",
              "      <td>9.85</td>\n",
              "      <td>97.02</td>\n",
              "    </tr>\n",
              "    <tr>\n",
              "      <th>1</th>\n",
              "      <td>13</td>\n",
              "      <td>73</td>\n",
              "      <td>-2.6</td>\n",
              "      <td>-6.7</td>\n",
              "      <td>17.42</td>\n",
              "      <td>6.76</td>\n",
              "      <td>44.89</td>\n",
              "      <td>71.43</td>\n",
              "      <td>1.57</td>\n",
              "      <td>2.46</td>\n",
              "    </tr>\n",
              "    <tr>\n",
              "      <th>2</th>\n",
              "      <td>12</td>\n",
              "      <td>59</td>\n",
              "      <td>-3.6</td>\n",
              "      <td>-20.7</td>\n",
              "      <td>74.52</td>\n",
              "      <td>12.96</td>\n",
              "      <td>428.49</td>\n",
              "      <td>68.25</td>\n",
              "      <td>-9.25</td>\n",
              "      <td>85.56</td>\n",
              "    </tr>\n",
              "    <tr>\n",
              "      <th>3</th>\n",
              "      <td>15</td>\n",
              "      <td>80</td>\n",
              "      <td>-0.6</td>\n",
              "      <td>0.3</td>\n",
              "      <td>-0.18</td>\n",
              "      <td>0.36</td>\n",
              "      <td>0.09</td>\n",
              "      <td>77.79</td>\n",
              "      <td>2.21</td>\n",
              "      <td>4.88</td>\n",
              "    </tr>\n",
              "    <tr>\n",
              "      <th>4</th>\n",
              "      <td>16</td>\n",
              "      <td>93</td>\n",
              "      <td>0.4</td>\n",
              "      <td>13.3</td>\n",
              "      <td>5.32</td>\n",
              "      <td>0.16</td>\n",
              "      <td>176.89</td>\n",
              "      <td>80.97</td>\n",
              "      <td>12.03</td>\n",
              "      <td>144.72</td>\n",
              "    </tr>\n",
              "    <tr>\n",
              "      <th>5</th>\n",
              "      <td>14</td>\n",
              "      <td>85</td>\n",
              "      <td>-1.6</td>\n",
              "      <td>5.3</td>\n",
              "      <td>-8.48</td>\n",
              "      <td>2.56</td>\n",
              "      <td>28.09</td>\n",
              "      <td>74.61</td>\n",
              "      <td>10.39</td>\n",
              "      <td>107.95</td>\n",
              "    </tr>\n",
              "    <tr>\n",
              "      <th>6</th>\n",
              "      <td>16</td>\n",
              "      <td>66</td>\n",
              "      <td>0.4</td>\n",
              "      <td>-13.7</td>\n",
              "      <td>-5.48</td>\n",
              "      <td>0.16</td>\n",
              "      <td>187.69</td>\n",
              "      <td>80.97</td>\n",
              "      <td>-14.97</td>\n",
              "      <td>224.10</td>\n",
              "    </tr>\n",
              "    <tr>\n",
              "      <th>7</th>\n",
              "      <td>16</td>\n",
              "      <td>79</td>\n",
              "      <td>0.4</td>\n",
              "      <td>-0.7</td>\n",
              "      <td>-0.28</td>\n",
              "      <td>0.16</td>\n",
              "      <td>0.49</td>\n",
              "      <td>80.97</td>\n",
              "      <td>-1.97</td>\n",
              "      <td>3.88</td>\n",
              "    </tr>\n",
              "    <tr>\n",
              "      <th>8</th>\n",
              "      <td>18</td>\n",
              "      <td>77</td>\n",
              "      <td>2.4</td>\n",
              "      <td>-2.7</td>\n",
              "      <td>-6.48</td>\n",
              "      <td>5.76</td>\n",
              "      <td>7.29</td>\n",
              "      <td>87.33</td>\n",
              "      <td>-10.33</td>\n",
              "      <td>106.71</td>\n",
              "    </tr>\n",
              "    <tr>\n",
              "      <th>9</th>\n",
              "      <td>19</td>\n",
              "      <td>91</td>\n",
              "      <td>3.4</td>\n",
              "      <td>11.3</td>\n",
              "      <td>38.42</td>\n",
              "      <td>11.56</td>\n",
              "      <td>127.69</td>\n",
              "      <td>90.51</td>\n",
              "      <td>0.49</td>\n",
              "      <td>0.24</td>\n",
              "    </tr>\n",
              "  </tbody>\n",
              "</table>\n",
              "</div>"
            ],
            "text/plain": [
              "   Correct(X)  Attitude(Y)  X-MeanX  ...  Perdict_Y  Y-Perdict_Y  Y-Perdict_Y**2\n",
              "0          17           94      1.4  ...      84.15         9.85           97.02\n",
              "1          13           73     -2.6  ...      71.43         1.57            2.46\n",
              "2          12           59     -3.6  ...      68.25        -9.25           85.56\n",
              "3          15           80     -0.6  ...      77.79         2.21            4.88\n",
              "4          16           93      0.4  ...      80.97        12.03          144.72\n",
              "5          14           85     -1.6  ...      74.61        10.39          107.95\n",
              "6          16           66      0.4  ...      80.97       -14.97          224.10\n",
              "7          16           79      0.4  ...      80.97        -1.97            3.88\n",
              "8          18           77      2.4  ...      87.33       -10.33          106.71\n",
              "9          19           91      3.4  ...      90.51         0.49            0.24\n",
              "\n",
              "[10 rows x 10 columns]"
            ]
          },
          "metadata": {
            "tags": []
          },
          "execution_count": 15
        }
      ]
    },
    {
      "cell_type": "code",
      "metadata": {
        "id": "RCu_PJhb40K6",
        "colab_type": "code",
        "colab": {
          "base_uri": "https://localhost:8080/",
          "height": 52
        },
        "outputId": "f3c19dd7-4bb8-4b04-8b20-2fa085887765"
      },
      "source": [
        "MSE=SampleDF['Y-Perdict_Y**2'].sum()/n\n",
        "print('Mean Square Error : ',np.round(MSE,2))\n",
        "RMSE=math.sqrt(MSE)\n",
        "print('Root Mean Square Error (Loss function): ',np.round(RMSE,2))"
      ],
      "execution_count": null,
      "outputs": [
        {
          "output_type": "stream",
          "text": [
            "Mean Square Error :  77.75\n",
            "Root Mean Square Error (Loss function):  8.82\n"
          ],
          "name": "stdout"
        }
      ]
    },
    {
      "cell_type": "markdown",
      "metadata": {
        "id": "QB9693ycWwoz",
        "colab_type": "text"
      },
      "source": [
        "---\n",
        "# Below is Linear Regression with Gradient Descent\n",
        "### Gradient descent is an iterative optimization algorithm to find the minimum of a function. Here that function is our Loss Function.\n",
        "---\n",
        "### For Gradient we will use same linear regression but changing variable name to avoid confusion so \n",
        "> # $Y = c + mX$\n",
        "## here *Slope of Regerssion Line is $m$ & Y-Intercept of Regeression Line is $c$*\n",
        "---\n",
        "\n",
        "###Initially let m = 0 and c = 0. Let L be our learning rate. This controls how much the value of m changes with each step. L could be a small value like 0.0001 for good accuracy.\n",
        "# $ m = 0 $\n",
        "# $ c = 0 $\n",
        "# $ L = 0.0001 $\n",
        "---\n",
        "### Calculate the Partial derivative of the loss function with respect to m, and plug in the current values of x, y, m and c in it to obtain the derivative value D. **$D_m, D_c$**\n",
        "\n",
        "> #$D_m=(-2)\\frac1{n}\\sum x_i(y_i-\\hat{y_i})$\n",
        "\n",
        "> #$D_c=(-2)\\frac1{n}\\sum(y_i-\\hat{y_i})$\n",
        "\n",
        "### Now we update the current value of m and c using the following equation:\n",
        "> # $m=m- L\\,D_m$\n",
        "\n",
        "> # $c=c- L\\,D_c$"
      ]
    },
    {
      "cell_type": "code",
      "metadata": {
        "id": "V13mK6rnXMqF",
        "colab_type": "code",
        "colab": {
          "base_uri": "https://localhost:8080/",
          "height": 340
        },
        "outputId": "67e12f81-5ae7-4238-a39a-11268b46710e"
      },
      "source": [
        " GDSampleDF=SampleDF # We will use GDSampleDF for further Calculation\n",
        " GDSampleDF"
      ],
      "execution_count": null,
      "outputs": [
        {
          "output_type": "execute_result",
          "data": {
            "text/html": [
              "<div>\n",
              "<style scoped>\n",
              "    .dataframe tbody tr th:only-of-type {\n",
              "        vertical-align: middle;\n",
              "    }\n",
              "\n",
              "    .dataframe tbody tr th {\n",
              "        vertical-align: top;\n",
              "    }\n",
              "\n",
              "    .dataframe thead th {\n",
              "        text-align: right;\n",
              "    }\n",
              "</style>\n",
              "<table border=\"1\" class=\"dataframe\">\n",
              "  <thead>\n",
              "    <tr style=\"text-align: right;\">\n",
              "      <th></th>\n",
              "      <th>Correct(X)</th>\n",
              "      <th>Attitude(Y)</th>\n",
              "      <th>X-MeanX</th>\n",
              "      <th>Y-MeanY</th>\n",
              "      <th>X-MeanX*Y-MeanY</th>\n",
              "      <th>X-MeanX**2</th>\n",
              "      <th>Y-MeanY**2</th>\n",
              "      <th>Perdict_Y</th>\n",
              "      <th>Y-Perdict_Y</th>\n",
              "      <th>Y-Perdict_Y**2</th>\n",
              "    </tr>\n",
              "  </thead>\n",
              "  <tbody>\n",
              "    <tr>\n",
              "      <th>0</th>\n",
              "      <td>17</td>\n",
              "      <td>94</td>\n",
              "      <td>1.4</td>\n",
              "      <td>14.3</td>\n",
              "      <td>20.02</td>\n",
              "      <td>1.96</td>\n",
              "      <td>204.49</td>\n",
              "      <td>84.15</td>\n",
              "      <td>9.85</td>\n",
              "      <td>97.02</td>\n",
              "    </tr>\n",
              "    <tr>\n",
              "      <th>1</th>\n",
              "      <td>13</td>\n",
              "      <td>73</td>\n",
              "      <td>-2.6</td>\n",
              "      <td>-6.7</td>\n",
              "      <td>17.42</td>\n",
              "      <td>6.76</td>\n",
              "      <td>44.89</td>\n",
              "      <td>71.43</td>\n",
              "      <td>1.57</td>\n",
              "      <td>2.46</td>\n",
              "    </tr>\n",
              "    <tr>\n",
              "      <th>2</th>\n",
              "      <td>12</td>\n",
              "      <td>59</td>\n",
              "      <td>-3.6</td>\n",
              "      <td>-20.7</td>\n",
              "      <td>74.52</td>\n",
              "      <td>12.96</td>\n",
              "      <td>428.49</td>\n",
              "      <td>68.25</td>\n",
              "      <td>-9.25</td>\n",
              "      <td>85.56</td>\n",
              "    </tr>\n",
              "    <tr>\n",
              "      <th>3</th>\n",
              "      <td>15</td>\n",
              "      <td>80</td>\n",
              "      <td>-0.6</td>\n",
              "      <td>0.3</td>\n",
              "      <td>-0.18</td>\n",
              "      <td>0.36</td>\n",
              "      <td>0.09</td>\n",
              "      <td>77.79</td>\n",
              "      <td>2.21</td>\n",
              "      <td>4.88</td>\n",
              "    </tr>\n",
              "    <tr>\n",
              "      <th>4</th>\n",
              "      <td>16</td>\n",
              "      <td>93</td>\n",
              "      <td>0.4</td>\n",
              "      <td>13.3</td>\n",
              "      <td>5.32</td>\n",
              "      <td>0.16</td>\n",
              "      <td>176.89</td>\n",
              "      <td>80.97</td>\n",
              "      <td>12.03</td>\n",
              "      <td>144.72</td>\n",
              "    </tr>\n",
              "    <tr>\n",
              "      <th>5</th>\n",
              "      <td>14</td>\n",
              "      <td>85</td>\n",
              "      <td>-1.6</td>\n",
              "      <td>5.3</td>\n",
              "      <td>-8.48</td>\n",
              "      <td>2.56</td>\n",
              "      <td>28.09</td>\n",
              "      <td>74.61</td>\n",
              "      <td>10.39</td>\n",
              "      <td>107.95</td>\n",
              "    </tr>\n",
              "    <tr>\n",
              "      <th>6</th>\n",
              "      <td>16</td>\n",
              "      <td>66</td>\n",
              "      <td>0.4</td>\n",
              "      <td>-13.7</td>\n",
              "      <td>-5.48</td>\n",
              "      <td>0.16</td>\n",
              "      <td>187.69</td>\n",
              "      <td>80.97</td>\n",
              "      <td>-14.97</td>\n",
              "      <td>224.10</td>\n",
              "    </tr>\n",
              "    <tr>\n",
              "      <th>7</th>\n",
              "      <td>16</td>\n",
              "      <td>79</td>\n",
              "      <td>0.4</td>\n",
              "      <td>-0.7</td>\n",
              "      <td>-0.28</td>\n",
              "      <td>0.16</td>\n",
              "      <td>0.49</td>\n",
              "      <td>80.97</td>\n",
              "      <td>-1.97</td>\n",
              "      <td>3.88</td>\n",
              "    </tr>\n",
              "    <tr>\n",
              "      <th>8</th>\n",
              "      <td>18</td>\n",
              "      <td>77</td>\n",
              "      <td>2.4</td>\n",
              "      <td>-2.7</td>\n",
              "      <td>-6.48</td>\n",
              "      <td>5.76</td>\n",
              "      <td>7.29</td>\n",
              "      <td>87.33</td>\n",
              "      <td>-10.33</td>\n",
              "      <td>106.71</td>\n",
              "    </tr>\n",
              "    <tr>\n",
              "      <th>9</th>\n",
              "      <td>19</td>\n",
              "      <td>91</td>\n",
              "      <td>3.4</td>\n",
              "      <td>11.3</td>\n",
              "      <td>38.42</td>\n",
              "      <td>11.56</td>\n",
              "      <td>127.69</td>\n",
              "      <td>90.51</td>\n",
              "      <td>0.49</td>\n",
              "      <td>0.24</td>\n",
              "    </tr>\n",
              "  </tbody>\n",
              "</table>\n",
              "</div>"
            ],
            "text/plain": [
              "   Correct(X)  Attitude(Y)  X-MeanX  ...  Perdict_Y  Y-Perdict_Y  Y-Perdict_Y**2\n",
              "0          17           94      1.4  ...      84.15         9.85           97.02\n",
              "1          13           73     -2.6  ...      71.43         1.57            2.46\n",
              "2          12           59     -3.6  ...      68.25        -9.25           85.56\n",
              "3          15           80     -0.6  ...      77.79         2.21            4.88\n",
              "4          16           93      0.4  ...      80.97        12.03          144.72\n",
              "5          14           85     -1.6  ...      74.61        10.39          107.95\n",
              "6          16           66      0.4  ...      80.97       -14.97          224.10\n",
              "7          16           79      0.4  ...      80.97        -1.97            3.88\n",
              "8          18           77      2.4  ...      87.33       -10.33          106.71\n",
              "9          19           91      3.4  ...      90.51         0.49            0.24\n",
              "\n",
              "[10 rows x 10 columns]"
            ]
          },
          "metadata": {
            "tags": []
          },
          "execution_count": 17
        }
      ]
    },
    {
      "cell_type": "code",
      "metadata": {
        "id": "FENS4b-ntZML",
        "colab_type": "code",
        "colab": {}
      },
      "source": [
        "#Initialize Variable \n",
        "m = 0\n",
        "c = 0\n",
        "L = 0.0001\n",
        "n = GDSampleDF['Correct(X)'].count()"
      ],
      "execution_count": null,
      "outputs": []
    },
    {
      "cell_type": "code",
      "metadata": {
        "id": "jmm8xeXXFrQd",
        "colab_type": "code",
        "colab": {
          "base_uri": "https://localhost:8080/",
          "height": 295
        },
        "outputId": "3075b8f8-6f2e-4d8d-b440-61993b5f769b"
      },
      "source": [
        "plt.scatter('Correct(X)','Attitude(Y)',c='green', s=100, data=GDSampleDF)\n",
        "plt.ylim(bottom=0)\n",
        "plt.xlim(left=0)\n",
        "plt.plot(pd.RangeIndex(0,20),c +(m*pd.RangeIndex(0,20) ))\n",
        "plt.title(label=\"Correct(X) vs Attitude(Y)\",loc='center')\n",
        "plt.xlabel('Correct(X)')\n",
        "plt.ylabel('Attitude(Y)')\n",
        "plt.show()"
      ],
      "execution_count": null,
      "outputs": [
        {
          "output_type": "display_data",
          "data": {
            "image/png": "[encoded data removed]",
            "text/plain": [
              "<Figure size 432x288 with 1 Axes>"
            ]
          },
          "metadata": {
            "tags": [],
            "needs_background": "light"
          }
        }
      ]
    },
    {
      "cell_type": "code",
      "metadata": {
        "id": "EQDIMvVIFKGK",
        "colab_type": "code",
        "colab": {}
      },
      "source": [
        "epoch = 1000\n",
        "for i in range(epoch):\n",
        "  GDSampleDF['GD_Perdict_Y'] = GDSampleDF['Correct(X)'].map(lambda x: m*x+c )\n",
        "  GDSampleDF['Diff-in-Y'] = GDSampleDF['Attitude(Y)'] - GDSampleDF['GD_Perdict_Y']\n",
        "  GDSampleDF['Diff-y-Square'] = GDSampleDF['Diff-in-Y'].map(lambda y: y**2)\n",
        "  GDSampleDF['Diff-in-Y*x'] = GDSampleDF['Diff-in-Y'] * GDSampleDF['Correct(X)']\n",
        " \n",
        "  GDMSE = GDSampleDF['Diff-y-Square'].sum()/n\n",
        "  Dm = (-2/n) * GDSampleDF['Diff-in-Y*x'].sum()\n",
        "  Dc = (-2/n) * GDSampleDF['Diff-in-Y'].sum()\n",
        "  GDRMSE = math.sqrt(GDMSE)\n",
        "  \n",
        "  m = m - L * Dm\n",
        "  c = c - L * Dc\n",
        "  \"\"\"\n",
        "  plt.scatter('Correct(X)','Attitude(Y)',c='green', s=100, data=GDSampleDF)\n",
        "  plt.ylim(bottom=0)\n",
        "  plt.xlim(left=0)\n",
        "  plt.plot(pd.RangeIndex(0,20),c +(m*pd.RangeIndex(0,20) ))\n",
        "  plt.title(label=\"Correct(X) vs Attitude(Y)\"+str(i),loc='center')\n",
        "  plt.legend()\n",
        "  plt.show()\n",
        " \"\"\""
      ],
      "execution_count": null,
      "outputs": []
    },
    {
      "cell_type": "code",
      "metadata": {
        "id": "WXmoIlCpjfsm",
        "colab_type": "code",
        "colab": {
          "base_uri": "https://localhost:8080/",
          "height": 124
        },
        "outputId": "cf105f0e-3115-4e18-ce44-a375f8e3ea87"
      },
      "source": [
        "print(\"Slope(m) of Regerssion Line : \", m)\n",
        "print(\"Y-Intercept(c) of Regeression Line :\", c)\n",
        "print(\"Mean Square Error :\", GDMSE)\n",
        "print(\"Partial derivative of m(Dm) :\", Dm)\n",
        "print(\"Partial derivative of c(Dc) :\", Dc)\n",
        "print(\"Roont Mean Square Error :\", GDRMSE)"
      ],
      "execution_count": null,
      "outputs": [
        {
          "output_type": "stream",
          "text": [
            "Slope(m) of Regerssion Line :  5.043225690296916\n",
            "Y-Intercept(c) of Regeression Line : 0.5210969488419269\n",
            "Mean Square Error : 92.74003245586387\n",
            "Partial derivative of m(Dm) : 0.06358685581692214\n",
            "Partial derivative of c(Dc) : -1.0091680076637601\n",
            "Roont Mean Square Error : 9.630162639117986\n"
          ],
          "name": "stdout"
        }
      ]
    },
    {
      "cell_type": "code",
      "metadata": {
        "id": "sGTR7LZvP83C",
        "colab_type": "code",
        "colab": {
          "base_uri": "https://localhost:8080/",
          "height": 295
        },
        "outputId": "827e7ad7-41b2-48ec-fff5-a068f58c6b72"
      },
      "source": [
        "  plt.scatter('Correct(X)','Attitude(Y)',c='green', s=100, data=GDSampleDF)\n",
        "  plt.ylim(bottom=0)\n",
        "  plt.xlim(left=0)\n",
        "  plt.plot(pd.RangeIndex(0,20),c +(m*pd.RangeIndex(0,20) ))\n",
        "  plt.plot(pd.RangeIndex(0,20),a +(b*pd.RangeIndex(0,20) ))\n",
        "  plt.title(label=\"Correct(X) vs Attitude(Y)\"+str(i),loc='center')\n",
        "  plt.xlabel('Correct(X)')\n",
        "  plt.ylabel('Attitude(Y)')\n",
        "  plt.show()"
      ],
      "execution_count": null,
      "outputs": [
        {
          "output_type": "display_data",
          "data": {
            "image/png": "[encoded data removed]",
            "text/plain": [
              "<Figure size 432x288 with 1 Axes>"
            ]
          },
          "metadata": {
            "tags": [],
            "needs_background": "light"
          }
        }
      ]
    },
    {
      "cell_type": "code",
      "metadata": {
        "id": "O7hWE_PClbsP",
        "colab_type": "code",
        "colab": {
          "base_uri": "https://localhost:8080/",
          "height": 340
        },
        "outputId": "46448d8f-4c4d-4c97-fd50-510bea441eaf"
      },
      "source": [
        "GDSampleDF"
      ],
      "execution_count": null,
      "outputs": [
        {
          "output_type": "execute_result",
          "data": {
            "text/html": [
              "<div>\n",
              "<style scoped>\n",
              "    .dataframe tbody tr th:only-of-type {\n",
              "        vertical-align: middle;\n",
              "    }\n",
              "\n",
              "    .dataframe tbody tr th {\n",
              "        vertical-align: top;\n",
              "    }\n",
              "\n",
              "    .dataframe thead th {\n",
              "        text-align: right;\n",
              "    }\n",
              "</style>\n",
              "<table border=\"1\" class=\"dataframe\">\n",
              "  <thead>\n",
              "    <tr style=\"text-align: right;\">\n",
              "      <th></th>\n",
              "      <th>Correct(X)</th>\n",
              "      <th>Attitude(Y)</th>\n",
              "      <th>X-MeanX</th>\n",
              "      <th>Y-MeanY</th>\n",
              "      <th>X-MeanX*Y-MeanY</th>\n",
              "      <th>X-MeanX**2</th>\n",
              "      <th>Y-MeanY**2</th>\n",
              "      <th>Perdict_Y</th>\n",
              "      <th>Y-Perdict_Y</th>\n",
              "      <th>Y-Perdict_Y**2</th>\n",
              "      <th>GD_Perdict_Y</th>\n",
              "      <th>Diff-in-Y</th>\n",
              "      <th>Diff-y-Square</th>\n",
              "      <th>Diff-in-Y*x</th>\n",
              "    </tr>\n",
              "  </thead>\n",
              "  <tbody>\n",
              "    <tr>\n",
              "      <th>0</th>\n",
              "      <td>17</td>\n",
              "      <td>94</td>\n",
              "      <td>1.4</td>\n",
              "      <td>14.3</td>\n",
              "      <td>20.02</td>\n",
              "      <td>1.96</td>\n",
              "      <td>204.49</td>\n",
              "      <td>84.15</td>\n",
              "      <td>9.85</td>\n",
              "      <td>97.02</td>\n",
              "      <td>86.263134</td>\n",
              "      <td>7.736866</td>\n",
              "      <td>59.859096</td>\n",
              "      <td>131.526722</td>\n",
              "    </tr>\n",
              "    <tr>\n",
              "      <th>1</th>\n",
              "      <td>13</td>\n",
              "      <td>73</td>\n",
              "      <td>-2.6</td>\n",
              "      <td>-6.7</td>\n",
              "      <td>17.42</td>\n",
              "      <td>6.76</td>\n",
              "      <td>44.89</td>\n",
              "      <td>71.43</td>\n",
              "      <td>1.57</td>\n",
              "      <td>2.46</td>\n",
              "      <td>66.064728</td>\n",
              "      <td>6.935272</td>\n",
              "      <td>48.098004</td>\n",
              "      <td>90.158541</td>\n",
              "    </tr>\n",
              "    <tr>\n",
              "      <th>2</th>\n",
              "      <td>12</td>\n",
              "      <td>59</td>\n",
              "      <td>-3.6</td>\n",
              "      <td>-20.7</td>\n",
              "      <td>74.52</td>\n",
              "      <td>12.96</td>\n",
              "      <td>428.49</td>\n",
              "      <td>68.25</td>\n",
              "      <td>-9.25</td>\n",
              "      <td>85.56</td>\n",
              "      <td>61.015126</td>\n",
              "      <td>-2.015126</td>\n",
              "      <td>4.060733</td>\n",
              "      <td>-24.181512</td>\n",
              "    </tr>\n",
              "    <tr>\n",
              "      <th>3</th>\n",
              "      <td>15</td>\n",
              "      <td>80</td>\n",
              "      <td>-0.6</td>\n",
              "      <td>0.3</td>\n",
              "      <td>-0.18</td>\n",
              "      <td>0.36</td>\n",
              "      <td>0.09</td>\n",
              "      <td>77.79</td>\n",
              "      <td>2.21</td>\n",
              "      <td>4.88</td>\n",
              "      <td>76.163931</td>\n",
              "      <td>3.836069</td>\n",
              "      <td>14.715427</td>\n",
              "      <td>57.541038</td>\n",
              "    </tr>\n",
              "    <tr>\n",
              "      <th>4</th>\n",
              "      <td>16</td>\n",
              "      <td>93</td>\n",
              "      <td>0.4</td>\n",
              "      <td>13.3</td>\n",
              "      <td>5.32</td>\n",
              "      <td>0.16</td>\n",
              "      <td>176.89</td>\n",
              "      <td>80.97</td>\n",
              "      <td>12.03</td>\n",
              "      <td>144.72</td>\n",
              "      <td>81.213532</td>\n",
              "      <td>11.786468</td>\n",
              "      <td>138.920819</td>\n",
              "      <td>188.583482</td>\n",
              "    </tr>\n",
              "    <tr>\n",
              "      <th>5</th>\n",
              "      <td>14</td>\n",
              "      <td>85</td>\n",
              "      <td>-1.6</td>\n",
              "      <td>5.3</td>\n",
              "      <td>-8.48</td>\n",
              "      <td>2.56</td>\n",
              "      <td>28.09</td>\n",
              "      <td>74.61</td>\n",
              "      <td>10.39</td>\n",
              "      <td>107.95</td>\n",
              "      <td>71.114329</td>\n",
              "      <td>13.885671</td>\n",
              "      <td>192.811854</td>\n",
              "      <td>194.399391</td>\n",
              "    </tr>\n",
              "    <tr>\n",
              "      <th>6</th>\n",
              "      <td>16</td>\n",
              "      <td>66</td>\n",
              "      <td>0.4</td>\n",
              "      <td>-13.7</td>\n",
              "      <td>-5.48</td>\n",
              "      <td>0.16</td>\n",
              "      <td>187.69</td>\n",
              "      <td>80.97</td>\n",
              "      <td>-14.97</td>\n",
              "      <td>224.10</td>\n",
              "      <td>81.213532</td>\n",
              "      <td>-15.213532</td>\n",
              "      <td>231.451568</td>\n",
              "      <td>-243.416518</td>\n",
              "    </tr>\n",
              "    <tr>\n",
              "      <th>7</th>\n",
              "      <td>16</td>\n",
              "      <td>79</td>\n",
              "      <td>0.4</td>\n",
              "      <td>-0.7</td>\n",
              "      <td>-0.28</td>\n",
              "      <td>0.16</td>\n",
              "      <td>0.49</td>\n",
              "      <td>80.97</td>\n",
              "      <td>-1.97</td>\n",
              "      <td>3.88</td>\n",
              "      <td>81.213532</td>\n",
              "      <td>-2.213532</td>\n",
              "      <td>4.899726</td>\n",
              "      <td>-35.416518</td>\n",
              "    </tr>\n",
              "    <tr>\n",
              "      <th>8</th>\n",
              "      <td>18</td>\n",
              "      <td>77</td>\n",
              "      <td>2.4</td>\n",
              "      <td>-2.7</td>\n",
              "      <td>-6.48</td>\n",
              "      <td>5.76</td>\n",
              "      <td>7.29</td>\n",
              "      <td>87.33</td>\n",
              "      <td>-10.33</td>\n",
              "      <td>106.71</td>\n",
              "      <td>91.312736</td>\n",
              "      <td>-14.312736</td>\n",
              "      <td>204.854400</td>\n",
              "      <td>-257.629241</td>\n",
              "    </tr>\n",
              "    <tr>\n",
              "      <th>9</th>\n",
              "      <td>19</td>\n",
              "      <td>91</td>\n",
              "      <td>3.4</td>\n",
              "      <td>11.3</td>\n",
              "      <td>38.42</td>\n",
              "      <td>11.56</td>\n",
              "      <td>127.69</td>\n",
              "      <td>90.51</td>\n",
              "      <td>0.49</td>\n",
              "      <td>0.24</td>\n",
              "      <td>96.362337</td>\n",
              "      <td>-5.362337</td>\n",
              "      <td>28.754660</td>\n",
              "      <td>-101.884407</td>\n",
              "    </tr>\n",
              "  </tbody>\n",
              "</table>\n",
              "</div>"
            ],
            "text/plain": [
              "   Correct(X)  Attitude(Y)  X-MeanX  ...  Diff-in-Y  Diff-y-Square  Diff-in-Y*x\n",
              "0          17           94      1.4  ...   7.736866      59.859096   131.526722\n",
              "1          13           73     -2.6  ...   6.935272      48.098004    90.158541\n",
              "2          12           59     -3.6  ...  -2.015126       4.060733   -24.181512\n",
              "3          15           80     -0.6  ...   3.836069      14.715427    57.541038\n",
              "4          16           93      0.4  ...  11.786468     138.920819   188.583482\n",
              "5          14           85     -1.6  ...  13.885671     192.811854   194.399391\n",
              "6          16           66      0.4  ... -15.213532     231.451568  -243.416518\n",
              "7          16           79      0.4  ...  -2.213532       4.899726   -35.416518\n",
              "8          18           77      2.4  ... -14.312736     204.854400  -257.629241\n",
              "9          19           91      3.4  ...  -5.362337      28.754660  -101.884407\n",
              "\n",
              "[10 rows x 14 columns]"
            ]
          },
          "metadata": {
            "tags": []
          },
          "execution_count": 24
        }
      ]
    },
    {
      "cell_type": "markdown",
      "metadata": {
        "id": "o6b8RJkmeRWi",
        "colab_type": "text"
      },
      "source": [
        "---\n",
        "# Below is using SKlearn\n",
        "### This is to understand how internally the *LinearRegression* from *sklearn* library works"
      ]
    },
    {
      "cell_type": "code",
      "metadata": {
        "id": "p7VYSdKVe-zh",
        "colab_type": "code",
        "colab": {}
      },
      "source": [
        "# import library\n",
        "from sklearn.model_selection import train_test_split\n",
        "from sklearn.linear_model import LinearRegression\n",
        "from sklearn.metrics import mean_squared_error, r2_score, mean_absolute_error, explained_variance_score"
      ],
      "execution_count": null,
      "outputs": []
    },
    {
      "cell_type": "code",
      "metadata": {
        "id": "QxNcYcG1ej9r",
        "colab_type": "code",
        "colab": {
          "base_uri": "https://localhost:8080/",
          "height": 340
        },
        "outputId": "1e5ff842-9f16-4b41-fc26-6b2aca5a67b8"
      },
      "source": [
        "skSampleDF=GDSampleDF#SampleDF[['Correct(X)','Attitude(Y)']]\n",
        "skSampleDF"
      ],
      "execution_count": null,
      "outputs": [
        {
          "output_type": "execute_result",
          "data": {
            "text/html": [
              "<div>\n",
              "<style scoped>\n",
              "    .dataframe tbody tr th:only-of-type {\n",
              "        vertical-align: middle;\n",
              "    }\n",
              "\n",
              "    .dataframe tbody tr th {\n",
              "        vertical-align: top;\n",
              "    }\n",
              "\n",
              "    .dataframe thead th {\n",
              "        text-align: right;\n",
              "    }\n",
              "</style>\n",
              "<table border=\"1\" class=\"dataframe\">\n",
              "  <thead>\n",
              "    <tr style=\"text-align: right;\">\n",
              "      <th></th>\n",
              "      <th>Correct(X)</th>\n",
              "      <th>Attitude(Y)</th>\n",
              "      <th>X-MeanX</th>\n",
              "      <th>Y-MeanY</th>\n",
              "      <th>X-MeanX*Y-MeanY</th>\n",
              "      <th>X-MeanX**2</th>\n",
              "      <th>Y-MeanY**2</th>\n",
              "      <th>Perdict_Y</th>\n",
              "      <th>Y-Perdict_Y</th>\n",
              "      <th>Y-Perdict_Y**2</th>\n",
              "      <th>GD_Perdict_Y</th>\n",
              "      <th>Diff-in-Y</th>\n",
              "      <th>Diff-y-Square</th>\n",
              "      <th>Diff-in-Y*x</th>\n",
              "    </tr>\n",
              "  </thead>\n",
              "  <tbody>\n",
              "    <tr>\n",
              "      <th>0</th>\n",
              "      <td>17</td>\n",
              "      <td>94</td>\n",
              "      <td>1.4</td>\n",
              "      <td>14.3</td>\n",
              "      <td>20.02</td>\n",
              "      <td>1.96</td>\n",
              "      <td>204.49</td>\n",
              "      <td>84.15</td>\n",
              "      <td>9.85</td>\n",
              "      <td>97.02</td>\n",
              "      <td>86.263134</td>\n",
              "      <td>7.736866</td>\n",
              "      <td>59.859096</td>\n",
              "      <td>131.526722</td>\n",
              "    </tr>\n",
              "    <tr>\n",
              "      <th>1</th>\n",
              "      <td>13</td>\n",
              "      <td>73</td>\n",
              "      <td>-2.6</td>\n",
              "      <td>-6.7</td>\n",
              "      <td>17.42</td>\n",
              "      <td>6.76</td>\n",
              "      <td>44.89</td>\n",
              "      <td>71.43</td>\n",
              "      <td>1.57</td>\n",
              "      <td>2.46</td>\n",
              "      <td>66.064728</td>\n",
              "      <td>6.935272</td>\n",
              "      <td>48.098004</td>\n",
              "      <td>90.158541</td>\n",
              "    </tr>\n",
              "    <tr>\n",
              "      <th>2</th>\n",
              "      <td>12</td>\n",
              "      <td>59</td>\n",
              "      <td>-3.6</td>\n",
              "      <td>-20.7</td>\n",
              "      <td>74.52</td>\n",
              "      <td>12.96</td>\n",
              "      <td>428.49</td>\n",
              "      <td>68.25</td>\n",
              "      <td>-9.25</td>\n",
              "      <td>85.56</td>\n",
              "      <td>61.015126</td>\n",
              "      <td>-2.015126</td>\n",
              "      <td>4.060733</td>\n",
              "      <td>-24.181512</td>\n",
              "    </tr>\n",
              "    <tr>\n",
              "      <th>3</th>\n",
              "      <td>15</td>\n",
              "      <td>80</td>\n",
              "      <td>-0.6</td>\n",
              "      <td>0.3</td>\n",
              "      <td>-0.18</td>\n",
              "      <td>0.36</td>\n",
              "      <td>0.09</td>\n",
              "      <td>77.79</td>\n",
              "      <td>2.21</td>\n",
              "      <td>4.88</td>\n",
              "      <td>76.163931</td>\n",
              "      <td>3.836069</td>\n",
              "      <td>14.715427</td>\n",
              "      <td>57.541038</td>\n",
              "    </tr>\n",
              "    <tr>\n",
              "      <th>4</th>\n",
              "      <td>16</td>\n",
              "      <td>93</td>\n",
              "      <td>0.4</td>\n",
              "      <td>13.3</td>\n",
              "      <td>5.32</td>\n",
              "      <td>0.16</td>\n",
              "      <td>176.89</td>\n",
              "      <td>80.97</td>\n",
              "      <td>12.03</td>\n",
              "      <td>144.72</td>\n",
              "      <td>81.213532</td>\n",
              "      <td>11.786468</td>\n",
              "      <td>138.920819</td>\n",
              "      <td>188.583482</td>\n",
              "    </tr>\n",
              "    <tr>\n",
              "      <th>5</th>\n",
              "      <td>14</td>\n",
              "      <td>85</td>\n",
              "      <td>-1.6</td>\n",
              "      <td>5.3</td>\n",
              "      <td>-8.48</td>\n",
              "      <td>2.56</td>\n",
              "      <td>28.09</td>\n",
              "      <td>74.61</td>\n",
              "      <td>10.39</td>\n",
              "      <td>107.95</td>\n",
              "      <td>71.114329</td>\n",
              "      <td>13.885671</td>\n",
              "      <td>192.811854</td>\n",
              "      <td>194.399391</td>\n",
              "    </tr>\n",
              "    <tr>\n",
              "      <th>6</th>\n",
              "      <td>16</td>\n",
              "      <td>66</td>\n",
              "      <td>0.4</td>\n",
              "      <td>-13.7</td>\n",
              "      <td>-5.48</td>\n",
              "      <td>0.16</td>\n",
              "      <td>187.69</td>\n",
              "      <td>80.97</td>\n",
              "      <td>-14.97</td>\n",
              "      <td>224.10</td>\n",
              "      <td>81.213532</td>\n",
              "      <td>-15.213532</td>\n",
              "      <td>231.451568</td>\n",
              "      <td>-243.416518</td>\n",
              "    </tr>\n",
              "    <tr>\n",
              "      <th>7</th>\n",
              "      <td>16</td>\n",
              "      <td>79</td>\n",
              "      <td>0.4</td>\n",
              "      <td>-0.7</td>\n",
              "      <td>-0.28</td>\n",
              "      <td>0.16</td>\n",
              "      <td>0.49</td>\n",
              "      <td>80.97</td>\n",
              "      <td>-1.97</td>\n",
              "      <td>3.88</td>\n",
              "      <td>81.213532</td>\n",
              "      <td>-2.213532</td>\n",
              "      <td>4.899726</td>\n",
              "      <td>-35.416518</td>\n",
              "    </tr>\n",
              "    <tr>\n",
              "      <th>8</th>\n",
              "      <td>18</td>\n",
              "      <td>77</td>\n",
              "      <td>2.4</td>\n",
              "      <td>-2.7</td>\n",
              "      <td>-6.48</td>\n",
              "      <td>5.76</td>\n",
              "      <td>7.29</td>\n",
              "      <td>87.33</td>\n",
              "      <td>-10.33</td>\n",
              "      <td>106.71</td>\n",
              "      <td>91.312736</td>\n",
              "      <td>-14.312736</td>\n",
              "      <td>204.854400</td>\n",
              "      <td>-257.629241</td>\n",
              "    </tr>\n",
              "    <tr>\n",
              "      <th>9</th>\n",
              "      <td>19</td>\n",
              "      <td>91</td>\n",
              "      <td>3.4</td>\n",
              "      <td>11.3</td>\n",
              "      <td>38.42</td>\n",
              "      <td>11.56</td>\n",
              "      <td>127.69</td>\n",
              "      <td>90.51</td>\n",
              "      <td>0.49</td>\n",
              "      <td>0.24</td>\n",
              "      <td>96.362337</td>\n",
              "      <td>-5.362337</td>\n",
              "      <td>28.754660</td>\n",
              "      <td>-101.884407</td>\n",
              "    </tr>\n",
              "  </tbody>\n",
              "</table>\n",
              "</div>"
            ],
            "text/plain": [
              "   Correct(X)  Attitude(Y)  X-MeanX  ...  Diff-in-Y  Diff-y-Square  Diff-in-Y*x\n",
              "0          17           94      1.4  ...   7.736866      59.859096   131.526722\n",
              "1          13           73     -2.6  ...   6.935272      48.098004    90.158541\n",
              "2          12           59     -3.6  ...  -2.015126       4.060733   -24.181512\n",
              "3          15           80     -0.6  ...   3.836069      14.715427    57.541038\n",
              "4          16           93      0.4  ...  11.786468     138.920819   188.583482\n",
              "5          14           85     -1.6  ...  13.885671     192.811854   194.399391\n",
              "6          16           66      0.4  ... -15.213532     231.451568  -243.416518\n",
              "7          16           79      0.4  ...  -2.213532       4.899726   -35.416518\n",
              "8          18           77      2.4  ... -14.312736     204.854400  -257.629241\n",
              "9          19           91      3.4  ...  -5.362337      28.754660  -101.884407\n",
              "\n",
              "[10 rows x 14 columns]"
            ]
          },
          "metadata": {
            "tags": []
          },
          "execution_count": 27
        }
      ]
    },
    {
      "cell_type": "code",
      "metadata": {
        "id": "ixOajEwSgwy6",
        "colab_type": "code",
        "colab": {
          "base_uri": "https://localhost:8080/",
          "height": 295
        },
        "outputId": "02bf4dac-6446-46d0-df25-0a4fe0557e90"
      },
      "source": [
        "plt.scatter('Correct(X)','Attitude(Y)',c='green', s=100, data=skSampleDF)\n",
        "plt.ylim(bottom=0)\n",
        "plt.xlim(left=0)\n",
        "plt.title(label=\"Correct(X) vs Attitude(Y)\",loc='center')\n",
        "plt.xlabel('Correct(X)')\n",
        "plt.ylabel('Attitude(Y)')\n",
        "plt.show()"
      ],
      "execution_count": null,
      "outputs": [
        {
          "output_type": "display_data",
          "data": {
            "image/png": "[encoded data removed]",
            "text/plain": [
              "<Figure size 432x288 with 1 Axes>"
            ]
          },
          "metadata": {
            "tags": [],
            "needs_background": "light"
          }
        }
      ]
    },
    {
      "cell_type": "code",
      "metadata": {
        "id": "bU_e2USqhahe",
        "colab_type": "code",
        "colab": {
          "base_uri": "https://localhost:8080/",
          "height": 35
        },
        "outputId": "29b205fe-ba53-42c2-d9d9-3e085601875e"
      },
      "source": [
        "LR = LinearRegression(normalize=True)\n",
        "LR.fit(skSampleDF[['Correct(X)']], skSampleDF[['Attitude(Y)']])"
      ],
      "execution_count": null,
      "outputs": [
        {
          "output_type": "execute_result",
          "data": {
            "text/plain": [
              "LinearRegression(copy_X=True, fit_intercept=True, n_jobs=None, normalize=True)"
            ]
          },
          "metadata": {
            "tags": []
          },
          "execution_count": 30
        }
      ]
    },
    {
      "cell_type": "code",
      "metadata": {
        "id": "JEmYNCgikvBZ",
        "colab_type": "code",
        "colab": {
          "base_uri": "https://localhost:8080/",
          "height": 340
        },
        "outputId": "0bfbf87c-89a8-40a5-da66-14c1a7a08408"
      },
      "source": [
        "#perdict Y using linear Model developed(LR)\n",
        "skSampleDF['SK_Perdict_Y']=pd.DataFrame (LR.predict(skSampleDF[['Correct(X)']]))\n",
        "skSampleDF"
      ],
      "execution_count": null,
      "outputs": [
        {
          "output_type": "execute_result",
          "data": {
            "text/html": [
              "<div>\n",
              "<style scoped>\n",
              "    .dataframe tbody tr th:only-of-type {\n",
              "        vertical-align: middle;\n",
              "    }\n",
              "\n",
              "    .dataframe tbody tr th {\n",
              "        vertical-align: top;\n",
              "    }\n",
              "\n",
              "    .dataframe thead th {\n",
              "        text-align: right;\n",
              "    }\n",
              "</style>\n",
              "<table border=\"1\" class=\"dataframe\">\n",
              "  <thead>\n",
              "    <tr style=\"text-align: right;\">\n",
              "      <th></th>\n",
              "      <th>Correct(X)</th>\n",
              "      <th>Attitude(Y)</th>\n",
              "      <th>X-MeanX</th>\n",
              "      <th>Y-MeanY</th>\n",
              "      <th>X-MeanX*Y-MeanY</th>\n",
              "      <th>X-MeanX**2</th>\n",
              "      <th>Y-MeanY**2</th>\n",
              "      <th>Perdict_Y</th>\n",
              "      <th>Y-Perdict_Y</th>\n",
              "      <th>Y-Perdict_Y**2</th>\n",
              "      <th>GD_Perdict_Y</th>\n",
              "      <th>Diff-in-Y</th>\n",
              "      <th>Diff-y-Square</th>\n",
              "      <th>Diff-in-Y*x</th>\n",
              "      <th>SK_Perdict_Y</th>\n",
              "    </tr>\n",
              "  </thead>\n",
              "  <tbody>\n",
              "    <tr>\n",
              "      <th>0</th>\n",
              "      <td>17</td>\n",
              "      <td>94</td>\n",
              "      <td>1.4</td>\n",
              "      <td>14.3</td>\n",
              "      <td>20.02</td>\n",
              "      <td>1.96</td>\n",
              "      <td>204.49</td>\n",
              "      <td>84.15</td>\n",
              "      <td>9.85</td>\n",
              "      <td>97.02</td>\n",
              "      <td>86.263134</td>\n",
              "      <td>7.736866</td>\n",
              "      <td>59.859096</td>\n",
              "      <td>131.526722</td>\n",
              "      <td>84.150943</td>\n",
              "    </tr>\n",
              "    <tr>\n",
              "      <th>1</th>\n",
              "      <td>13</td>\n",
              "      <td>73</td>\n",
              "      <td>-2.6</td>\n",
              "      <td>-6.7</td>\n",
              "      <td>17.42</td>\n",
              "      <td>6.76</td>\n",
              "      <td>44.89</td>\n",
              "      <td>71.43</td>\n",
              "      <td>1.57</td>\n",
              "      <td>2.46</td>\n",
              "      <td>66.064728</td>\n",
              "      <td>6.935272</td>\n",
              "      <td>48.098004</td>\n",
              "      <td>90.158541</td>\n",
              "      <td>71.433962</td>\n",
              "    </tr>\n",
              "    <tr>\n",
              "      <th>2</th>\n",
              "      <td>12</td>\n",
              "      <td>59</td>\n",
              "      <td>-3.6</td>\n",
              "      <td>-20.7</td>\n",
              "      <td>74.52</td>\n",
              "      <td>12.96</td>\n",
              "      <td>428.49</td>\n",
              "      <td>68.25</td>\n",
              "      <td>-9.25</td>\n",
              "      <td>85.56</td>\n",
              "      <td>61.015126</td>\n",
              "      <td>-2.015126</td>\n",
              "      <td>4.060733</td>\n",
              "      <td>-24.181512</td>\n",
              "      <td>68.254717</td>\n",
              "    </tr>\n",
              "    <tr>\n",
              "      <th>3</th>\n",
              "      <td>15</td>\n",
              "      <td>80</td>\n",
              "      <td>-0.6</td>\n",
              "      <td>0.3</td>\n",
              "      <td>-0.18</td>\n",
              "      <td>0.36</td>\n",
              "      <td>0.09</td>\n",
              "      <td>77.79</td>\n",
              "      <td>2.21</td>\n",
              "      <td>4.88</td>\n",
              "      <td>76.163931</td>\n",
              "      <td>3.836069</td>\n",
              "      <td>14.715427</td>\n",
              "      <td>57.541038</td>\n",
              "      <td>77.792453</td>\n",
              "    </tr>\n",
              "    <tr>\n",
              "      <th>4</th>\n",
              "      <td>16</td>\n",
              "      <td>93</td>\n",
              "      <td>0.4</td>\n",
              "      <td>13.3</td>\n",
              "      <td>5.32</td>\n",
              "      <td>0.16</td>\n",
              "      <td>176.89</td>\n",
              "      <td>80.97</td>\n",
              "      <td>12.03</td>\n",
              "      <td>144.72</td>\n",
              "      <td>81.213532</td>\n",
              "      <td>11.786468</td>\n",
              "      <td>138.920819</td>\n",
              "      <td>188.583482</td>\n",
              "      <td>80.971698</td>\n",
              "    </tr>\n",
              "    <tr>\n",
              "      <th>5</th>\n",
              "      <td>14</td>\n",
              "      <td>85</td>\n",
              "      <td>-1.6</td>\n",
              "      <td>5.3</td>\n",
              "      <td>-8.48</td>\n",
              "      <td>2.56</td>\n",
              "      <td>28.09</td>\n",
              "      <td>74.61</td>\n",
              "      <td>10.39</td>\n",
              "      <td>107.95</td>\n",
              "      <td>71.114329</td>\n",
              "      <td>13.885671</td>\n",
              "      <td>192.811854</td>\n",
              "      <td>194.399391</td>\n",
              "      <td>74.613208</td>\n",
              "    </tr>\n",
              "    <tr>\n",
              "      <th>6</th>\n",
              "      <td>16</td>\n",
              "      <td>66</td>\n",
              "      <td>0.4</td>\n",
              "      <td>-13.7</td>\n",
              "      <td>-5.48</td>\n",
              "      <td>0.16</td>\n",
              "      <td>187.69</td>\n",
              "      <td>80.97</td>\n",
              "      <td>-14.97</td>\n",
              "      <td>224.10</td>\n",
              "      <td>81.213532</td>\n",
              "      <td>-15.213532</td>\n",
              "      <td>231.451568</td>\n",
              "      <td>-243.416518</td>\n",
              "      <td>80.971698</td>\n",
              "    </tr>\n",
              "    <tr>\n",
              "      <th>7</th>\n",
              "      <td>16</td>\n",
              "      <td>79</td>\n",
              "      <td>0.4</td>\n",
              "      <td>-0.7</td>\n",
              "      <td>-0.28</td>\n",
              "      <td>0.16</td>\n",
              "      <td>0.49</td>\n",
              "      <td>80.97</td>\n",
              "      <td>-1.97</td>\n",
              "      <td>3.88</td>\n",
              "      <td>81.213532</td>\n",
              "      <td>-2.213532</td>\n",
              "      <td>4.899726</td>\n",
              "      <td>-35.416518</td>\n",
              "      <td>80.971698</td>\n",
              "    </tr>\n",
              "    <tr>\n",
              "      <th>8</th>\n",
              "      <td>18</td>\n",
              "      <td>77</td>\n",
              "      <td>2.4</td>\n",
              "      <td>-2.7</td>\n",
              "      <td>-6.48</td>\n",
              "      <td>5.76</td>\n",
              "      <td>7.29</td>\n",
              "      <td>87.33</td>\n",
              "      <td>-10.33</td>\n",
              "      <td>106.71</td>\n",
              "      <td>91.312736</td>\n",
              "      <td>-14.312736</td>\n",
              "      <td>204.854400</td>\n",
              "      <td>-257.629241</td>\n",
              "      <td>87.330189</td>\n",
              "    </tr>\n",
              "    <tr>\n",
              "      <th>9</th>\n",
              "      <td>19</td>\n",
              "      <td>91</td>\n",
              "      <td>3.4</td>\n",
              "      <td>11.3</td>\n",
              "      <td>38.42</td>\n",
              "      <td>11.56</td>\n",
              "      <td>127.69</td>\n",
              "      <td>90.51</td>\n",
              "      <td>0.49</td>\n",
              "      <td>0.24</td>\n",
              "      <td>96.362337</td>\n",
              "      <td>-5.362337</td>\n",
              "      <td>28.754660</td>\n",
              "      <td>-101.884407</td>\n",
              "      <td>90.509434</td>\n",
              "    </tr>\n",
              "  </tbody>\n",
              "</table>\n",
              "</div>"
            ],
            "text/plain": [
              "   Correct(X)  Attitude(Y)  X-MeanX  ...  Diff-y-Square  Diff-in-Y*x  SK_Perdict_Y\n",
              "0          17           94      1.4  ...      59.859096   131.526722     84.150943\n",
              "1          13           73     -2.6  ...      48.098004    90.158541     71.433962\n",
              "2          12           59     -3.6  ...       4.060733   -24.181512     68.254717\n",
              "3          15           80     -0.6  ...      14.715427    57.541038     77.792453\n",
              "4          16           93      0.4  ...     138.920819   188.583482     80.971698\n",
              "5          14           85     -1.6  ...     192.811854   194.399391     74.613208\n",
              "6          16           66      0.4  ...     231.451568  -243.416518     80.971698\n",
              "7          16           79      0.4  ...       4.899726   -35.416518     80.971698\n",
              "8          18           77      2.4  ...     204.854400  -257.629241     87.330189\n",
              "9          19           91      3.4  ...      28.754660  -101.884407     90.509434\n",
              "\n",
              "[10 rows x 15 columns]"
            ]
          },
          "metadata": {
            "tags": []
          },
          "execution_count": 31
        }
      ]
    },
    {
      "cell_type": "code",
      "metadata": {
        "id": "MMpXkHys1eiK",
        "colab_type": "code",
        "colab": {}
      },
      "source": [
        "skLearm=LR.coef_\n",
        "skLearnc=LR.intercept_\n",
        "skLearMSE=mean_squared_error(skSampleDF['Attitude(Y)'],skSampleDF['SK_Perdict_Y'])\n",
        "skLearRMSE=math.sqrt(skLearMSE)"
      ],
      "execution_count": null,
      "outputs": []
    },
    {
      "cell_type": "code",
      "metadata": {
        "id": "01YyuiJ1XH5M",
        "colab_type": "code",
        "colab": {
          "base_uri": "https://localhost:8080/",
          "height": 88
        },
        "outputId": "996ad6a4-9b5c-4b71-e1d1-b5946f5d880b"
      },
      "source": [
        "print(\"Slope(m) of Regerssion Line  using skLearn: \", skLearm.item())\n",
        "print(\"Y-Intercept(c) of Regeression Line skLearn:\", skLearnc.item())\n",
        "print(\"Mean Square Error skLearn:\", skLearMSE)\n",
        "print(\"Roont Mean Square Error skLearn:\", skLearRMSE)"
      ],
      "execution_count": null,
      "outputs": [
        {
          "output_type": "stream",
          "text": [
            "Slope(m) of Regerssion Line  using skLearn:  3.179245283018869\n",
            "Y-Intercept(c) of Regeression Line skLearn: 30.103773584905646\n",
            "Mean Square Error skLearn: 77.75377358490563\n",
            "Roont Mean Square Error skLearn: 8.81781002204661\n"
          ],
          "name": "stdout"
        }
      ]
    },
    {
      "cell_type": "code",
      "metadata": {
        "id": "qMWXHzRe4lpg",
        "colab_type": "code",
        "colab": {
          "base_uri": "https://localhost:8080/",
          "height": 295
        },
        "outputId": "12f91e8f-1149-4a76-e165-08e483c90c2e"
      },
      "source": [
        "  plt.scatter('Correct(X)','Attitude(Y)',c='green', s=100, data=GDSampleDF)\n",
        "  plt.ylim(bottom=0)\n",
        "  plt.xlim(left=0)\n",
        "  plt.plot(pd.RangeIndex(0,20),c +(m*pd.RangeIndex(0,20) ))\n",
        "  plt.plot(pd.RangeIndex(0,20),a +(b*pd.RangeIndex(0,20) ))\n",
        "  plt.plot(pd.RangeIndex(0,20),skLearnc.item() +(skLearm.item()*pd.RangeIndex(0,20) ))\n",
        "  plt.title(label=\"Correct(X) vs Attitude(Y)\"+str(i),loc='center')\n",
        "  plt.xlabel('Correct(X)')\n",
        "  plt.ylabel('Attitude(Y)')\n",
        "  plt.show()"
      ],
      "execution_count": null,
      "outputs": [
        {
          "output_type": "display_data",
          "data": {
            "image/png": "[encoded data removed]",
            "text/plain": [
              "<Figure size 432x288 with 1 Axes>"
            ]
          },
          "metadata": {
            "tags": [],
            "needs_background": "light"
          }
        }
      ]
    },
    {
      "cell_type": "markdown",
      "metadata": {
        "id": "Mc-dXLmDjGvA",
        "colab_type": "text"
      },
      "source": [
        "## Coefficient of determination of the prediction ($R^2$).\n",
        "> # $R^2=1-(\\frac{u}{v})$\n",
        "## where $u$ is the residual sum of squares\n",
        "> # $u=\\sum(y_i-\\hat{y_i})^2$\n",
        "##  and $v$ is the total sum of squares \n",
        "> # $v=\\sum(y_i-\\bar{y_i})^2$\n",
        "---\n"
      ]
    },
    {
      "cell_type": "code",
      "metadata": {
        "id": "8vKoBGFLs2uN",
        "colab_type": "code",
        "colab": {
          "base_uri": "https://localhost:8080/",
          "height": 52
        },
        "outputId": "220dba15-70dc-4142-9b88-421f26033ef5"
      },
      "source": [
        "# Get Score\n",
        "sklearnScore=LR.score(skSampleDF[['Correct(X)']],skSampleDF[['Attitude(Y)']])\n",
        "print('Score for sklearn linear regerssion Model :',sklearnScore)\n",
        "# gdScore\n",
        "gdu=skSampleDF['Diff-in-Y'].sum()**2\n",
        "v=skSampleDF['Y-MeanY**2'].sum()**2\n",
        "gdScore=1-(gdu/v)\n",
        "print('Score for linear resgression with gradient descent :',gdScore)"
      ],
      "execution_count": null,
      "outputs": [
        {
          "output_type": "stream",
          "text": [
            "Score for sklearn linear regerssion Model : 0.3553289645559603\n",
            "Score for linear resgression with gradient descent : 0.9999824974904967\n"
          ],
          "name": "stdout"
        }
      ]
    }
  ]
}